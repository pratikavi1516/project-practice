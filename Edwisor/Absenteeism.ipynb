{
 "cells": [
  {
   "cell_type": "code",
   "execution_count": 1,
   "metadata": {},
   "outputs": [],
   "source": [
    "import pandas as pd\n",
    "import numpy as np\n",
    "import csv\n",
    "pd.set_option('display.max_columns', 380)\n",
    "pd.set_option('display.width', 140)\n",
    "pd.set_option('display.max_rows', 380)\n",
    "import seaborn as sns\n",
    "import matplotlib.pyplot as plt\n",
    "sns.set(style=\"ticks\", color_codes=True)\n",
    "%matplotlib inline"
   ]
  },
  {
   "cell_type": "markdown",
   "metadata": {},
   "source": [
    "reading data"
   ]
  },
  {
   "cell_type": "code",
   "execution_count": 2,
   "metadata": {},
   "outputs": [],
   "source": [
    "absent = pd.read_csv('Absenteeism_at_work_Project.xls')"
   ]
  },
  {
   "cell_type": "code",
   "execution_count": 3,
   "metadata": {},
   "outputs": [
    {
     "data": {
      "text/html": [
       "<div>\n",
       "<style scoped>\n",
       "    .dataframe tbody tr th:only-of-type {\n",
       "        vertical-align: middle;\n",
       "    }\n",
       "\n",
       "    .dataframe tbody tr th {\n",
       "        vertical-align: top;\n",
       "    }\n",
       "\n",
       "    .dataframe thead th {\n",
       "        text-align: right;\n",
       "    }\n",
       "</style>\n",
       "<table border=\"1\" class=\"dataframe\">\n",
       "  <thead>\n",
       "    <tr style=\"text-align: right;\">\n",
       "      <th></th>\n",
       "      <th>ID</th>\n",
       "      <th>Reason for absence</th>\n",
       "      <th>Month of absence</th>\n",
       "      <th>Day of the week</th>\n",
       "      <th>Seasons</th>\n",
       "      <th>Transportation expense</th>\n",
       "      <th>Distance from Residence to Work</th>\n",
       "      <th>Service time</th>\n",
       "      <th>Age</th>\n",
       "      <th>Work load Average/day</th>\n",
       "      <th>Hit target</th>\n",
       "      <th>Disciplinary failure</th>\n",
       "      <th>Education</th>\n",
       "      <th>Son</th>\n",
       "      <th>Social drinker</th>\n",
       "      <th>Social smoker</th>\n",
       "      <th>Pet</th>\n",
       "      <th>Weight</th>\n",
       "      <th>Height</th>\n",
       "      <th>Body mass index</th>\n",
       "      <th>Absenteeism time in hours</th>\n",
       "    </tr>\n",
       "  </thead>\n",
       "  <tbody>\n",
       "    <tr>\n",
       "      <th>0</th>\n",
       "      <td>11</td>\n",
       "      <td>26.0</td>\n",
       "      <td>7.0</td>\n",
       "      <td>3</td>\n",
       "      <td>1</td>\n",
       "      <td>289.0</td>\n",
       "      <td>36.0</td>\n",
       "      <td>13.0</td>\n",
       "      <td>33.0</td>\n",
       "      <td>239,554</td>\n",
       "      <td>97.0</td>\n",
       "      <td>0.0</td>\n",
       "      <td>1.0</td>\n",
       "      <td>2.0</td>\n",
       "      <td>1.0</td>\n",
       "      <td>0.0</td>\n",
       "      <td>1.0</td>\n",
       "      <td>90.0</td>\n",
       "      <td>172.0</td>\n",
       "      <td>30.0</td>\n",
       "      <td>4.0</td>\n",
       "    </tr>\n",
       "    <tr>\n",
       "      <th>1</th>\n",
       "      <td>36</td>\n",
       "      <td>0.0</td>\n",
       "      <td>7.0</td>\n",
       "      <td>3</td>\n",
       "      <td>1</td>\n",
       "      <td>118.0</td>\n",
       "      <td>13.0</td>\n",
       "      <td>18.0</td>\n",
       "      <td>50.0</td>\n",
       "      <td>239,554</td>\n",
       "      <td>97.0</td>\n",
       "      <td>1.0</td>\n",
       "      <td>1.0</td>\n",
       "      <td>1.0</td>\n",
       "      <td>1.0</td>\n",
       "      <td>0.0</td>\n",
       "      <td>0.0</td>\n",
       "      <td>98.0</td>\n",
       "      <td>178.0</td>\n",
       "      <td>31.0</td>\n",
       "      <td>0.0</td>\n",
       "    </tr>\n",
       "    <tr>\n",
       "      <th>2</th>\n",
       "      <td>3</td>\n",
       "      <td>23.0</td>\n",
       "      <td>7.0</td>\n",
       "      <td>4</td>\n",
       "      <td>1</td>\n",
       "      <td>179.0</td>\n",
       "      <td>51.0</td>\n",
       "      <td>18.0</td>\n",
       "      <td>38.0</td>\n",
       "      <td>239,554</td>\n",
       "      <td>97.0</td>\n",
       "      <td>0.0</td>\n",
       "      <td>1.0</td>\n",
       "      <td>0.0</td>\n",
       "      <td>1.0</td>\n",
       "      <td>0.0</td>\n",
       "      <td>0.0</td>\n",
       "      <td>89.0</td>\n",
       "      <td>170.0</td>\n",
       "      <td>31.0</td>\n",
       "      <td>2.0</td>\n",
       "    </tr>\n",
       "    <tr>\n",
       "      <th>3</th>\n",
       "      <td>7</td>\n",
       "      <td>7.0</td>\n",
       "      <td>7.0</td>\n",
       "      <td>5</td>\n",
       "      <td>1</td>\n",
       "      <td>279.0</td>\n",
       "      <td>5.0</td>\n",
       "      <td>14.0</td>\n",
       "      <td>39.0</td>\n",
       "      <td>239,554</td>\n",
       "      <td>97.0</td>\n",
       "      <td>0.0</td>\n",
       "      <td>1.0</td>\n",
       "      <td>2.0</td>\n",
       "      <td>1.0</td>\n",
       "      <td>1.0</td>\n",
       "      <td>0.0</td>\n",
       "      <td>68.0</td>\n",
       "      <td>168.0</td>\n",
       "      <td>24.0</td>\n",
       "      <td>4.0</td>\n",
       "    </tr>\n",
       "    <tr>\n",
       "      <th>4</th>\n",
       "      <td>11</td>\n",
       "      <td>23.0</td>\n",
       "      <td>7.0</td>\n",
       "      <td>5</td>\n",
       "      <td>1</td>\n",
       "      <td>289.0</td>\n",
       "      <td>36.0</td>\n",
       "      <td>13.0</td>\n",
       "      <td>33.0</td>\n",
       "      <td>239,554</td>\n",
       "      <td>97.0</td>\n",
       "      <td>0.0</td>\n",
       "      <td>1.0</td>\n",
       "      <td>2.0</td>\n",
       "      <td>1.0</td>\n",
       "      <td>0.0</td>\n",
       "      <td>1.0</td>\n",
       "      <td>90.0</td>\n",
       "      <td>172.0</td>\n",
       "      <td>30.0</td>\n",
       "      <td>2.0</td>\n",
       "    </tr>\n",
       "  </tbody>\n",
       "</table>\n",
       "</div>"
      ],
      "text/plain": [
       "   ID  Reason for absence  Month of absence  Day of the week  Seasons  Transportation expense  Distance from Residence to Work  \\\n",
       "0  11                26.0               7.0                3        1                   289.0                             36.0   \n",
       "1  36                 0.0               7.0                3        1                   118.0                             13.0   \n",
       "2   3                23.0               7.0                4        1                   179.0                             51.0   \n",
       "3   7                 7.0               7.0                5        1                   279.0                              5.0   \n",
       "4  11                23.0               7.0                5        1                   289.0                             36.0   \n",
       "\n",
       "   Service time   Age Work load Average/day   Hit target  Disciplinary failure  Education  Son  Social drinker  Social smoker  Pet  \\\n",
       "0          13.0  33.0                239,554        97.0                   0.0        1.0  2.0             1.0            0.0  1.0   \n",
       "1          18.0  50.0                239,554        97.0                   1.0        1.0  1.0             1.0            0.0  0.0   \n",
       "2          18.0  38.0                239,554        97.0                   0.0        1.0  0.0             1.0            0.0  0.0   \n",
       "3          14.0  39.0                239,554        97.0                   0.0        1.0  2.0             1.0            1.0  0.0   \n",
       "4          13.0  33.0                239,554        97.0                   0.0        1.0  2.0             1.0            0.0  1.0   \n",
       "\n",
       "   Weight  Height  Body mass index  Absenteeism time in hours  \n",
       "0    90.0   172.0             30.0                        4.0  \n",
       "1    98.0   178.0             31.0                        0.0  \n",
       "2    89.0   170.0             31.0                        2.0  \n",
       "3    68.0   168.0             24.0                        4.0  \n",
       "4    90.0   172.0             30.0                        2.0  "
      ]
     },
     "execution_count": 3,
     "metadata": {},
     "output_type": "execute_result"
    }
   ],
   "source": [
    "absent.head()"
   ]
  },
  {
   "cell_type": "code",
   "execution_count": 4,
   "metadata": {},
   "outputs": [
    {
     "data": {
      "text/plain": [
       "(740, 21)"
      ]
     },
     "execution_count": 4,
     "metadata": {},
     "output_type": "execute_result"
    }
   ],
   "source": [
    "absent.shape"
   ]
  },
  {
   "cell_type": "code",
   "execution_count": 5,
   "metadata": {},
   "outputs": [
    {
     "data": {
      "text/plain": [
       "ID                                   int64\n",
       "Reason for absence                 float64\n",
       "Month of absence                   float64\n",
       "Day of the week                      int64\n",
       "Seasons                              int64\n",
       "Transportation expense             float64\n",
       "Distance from Residence to Work    float64\n",
       "Service time                       float64\n",
       "Age                                float64\n",
       "Work load Average/day               object\n",
       "Hit target                         float64\n",
       "Disciplinary failure               float64\n",
       "Education                          float64\n",
       "Son                                float64\n",
       "Social drinker                     float64\n",
       "Social smoker                      float64\n",
       "Pet                                float64\n",
       "Weight                             float64\n",
       "Height                             float64\n",
       "Body mass index                    float64\n",
       "Absenteeism time in hours          float64\n",
       "dtype: object"
      ]
     },
     "execution_count": 5,
     "metadata": {},
     "output_type": "execute_result"
    }
   ],
   "source": [
    "absent.dtypes"
   ]
  },
  {
   "cell_type": "code",
   "execution_count": 6,
   "metadata": {},
   "outputs": [
    {
     "data": {
      "text/plain": [
       "Index(['ID', 'Reason for absence', 'Month of absence', 'Day of the week', 'Seasons', 'Transportation expense',\n",
       "       'Distance from Residence to Work', 'Service time', 'Age', 'Work load Average/day ', 'Hit target', 'Disciplinary failure',\n",
       "       'Education', 'Son', 'Social drinker', 'Social smoker', 'Pet', 'Weight', 'Height', 'Body mass index', 'Absenteeism time in hours'],\n",
       "      dtype='object')"
      ]
     },
     "execution_count": 6,
     "metadata": {},
     "output_type": "execute_result"
    }
   ],
   "source": [
    "absent.columns"
   ]
  },
  {
   "cell_type": "code",
   "execution_count": 7,
   "metadata": {},
   "outputs": [
    {
     "data": {
      "text/plain": [
       "0    239,554\n",
       "1    239,554\n",
       "2    239,554\n",
       "3    239,554\n",
       "4    239,554\n",
       "Name: Work load Average/day , dtype: object"
      ]
     },
     "execution_count": 7,
     "metadata": {},
     "output_type": "execute_result"
    }
   ],
   "source": [
    "absent.loc[:,'Work load Average/day '].head()"
   ]
  },
  {
   "cell_type": "markdown",
   "metadata": {},
   "source": [
    "Removing ',' from 'Work load Average/day ' column"
   ]
  },
  {
   "cell_type": "code",
   "execution_count": 8,
   "metadata": {},
   "outputs": [],
   "source": [
    "absent['Work load Average/day '] = absent['Work load Average/day '].str.replace(',','')"
   ]
  },
  {
   "cell_type": "code",
   "execution_count": 9,
   "metadata": {},
   "outputs": [
    {
     "data": {
      "text/plain": [
       "0    239554\n",
       "1    239554\n",
       "2    239554\n",
       "3    239554\n",
       "4    239554\n",
       "Name: Work load Average/day , dtype: object"
      ]
     },
     "execution_count": 9,
     "metadata": {},
     "output_type": "execute_result"
    }
   ],
   "source": [
    "absent['Work load Average/day ' ].head()"
   ]
  },
  {
   "cell_type": "markdown",
   "metadata": {},
   "source": [
    "# Removing observations with 'Absenteeism time in hours' equal to zero"
   ]
  },
  {
   "cell_type": "code",
   "execution_count": 10,
   "metadata": {},
   "outputs": [],
   "source": [
    "absent = absent.loc[absent['Absenteeism time in hours']!= 0,:]"
   ]
  },
  {
   "cell_type": "code",
   "execution_count": 11,
   "metadata": {},
   "outputs": [
    {
     "data": {
      "text/plain": [
       "(704, 21)"
      ]
     },
     "execution_count": 11,
     "metadata": {},
     "output_type": "execute_result"
    }
   ],
   "source": [
    "absent.shape"
   ]
  },
  {
   "cell_type": "markdown",
   "metadata": {},
   "source": [
    "# Missing values Analysis"
   ]
  },
  {
   "cell_type": "code",
   "execution_count": 12,
   "metadata": {},
   "outputs": [
    {
     "data": {
      "text/plain": [
       "ID                                  0\n",
       "Reason for absence                  3\n",
       "Month of absence                    1\n",
       "Day of the week                     0\n",
       "Seasons                             0\n",
       "Transportation expense              7\n",
       "Distance from Residence to Work     3\n",
       "Service time                        3\n",
       "Age                                 3\n",
       "Work load Average/day              10\n",
       "Hit target                          6\n",
       "Disciplinary failure                6\n",
       "Education                          10\n",
       "Son                                 6\n",
       "Social drinker                      3\n",
       "Social smoker                       4\n",
       "Pet                                 2\n",
       "Weight                              1\n",
       "Height                             13\n",
       "Body mass index                    29\n",
       "Absenteeism time in hours          22\n",
       "dtype: int64"
      ]
     },
     "execution_count": 12,
     "metadata": {},
     "output_type": "execute_result"
    }
   ],
   "source": [
    "absent.isnull().sum()"
   ]
  },
  {
   "cell_type": "code",
   "execution_count": 13,
   "metadata": {},
   "outputs": [
    {
     "data": {
      "text/plain": [
       "<seaborn.axisgrid.FacetGrid at 0x1cd0509d668>"
      ]
     },
     "execution_count": 13,
     "metadata": {},
     "output_type": "execute_result"
    },
    {
     "data": {
      "image/png": "[encoded data removed]",
      "text/plain": [
       "<Figure size 864x540 with 1 Axes>"
      ]
     },
     "metadata": {},
     "output_type": "display_data"
    }
   ],
   "source": [
    "sns.catplot(x='Reason for absence', y=\"Absenteeism time in hours\", kind=\"box\", data=absent,height=7.5,aspect=12/7.5)"
   ]
  },
  {
   "cell_type": "markdown",
   "metadata": {},
   "source": [
    "Putting null values of 'Reason for absence' column equal to 27(i.e. physiotherapy) since absenteeism hours are < 10."
   ]
  },
  {
   "cell_type": "code",
   "execution_count": 14,
   "metadata": {},
   "outputs": [],
   "source": [
    "absent.loc[absent['Reason for absence'].isnull(),'Reason for absence'] = 27"
   ]
  },
  {
   "cell_type": "markdown",
   "metadata": {},
   "source": [
    "Putting zero category of 'Reason for absence' column equal to 26(i.e. unjustified absence)."
   ]
  },
  {
   "cell_type": "code",
   "execution_count": 15,
   "metadata": {},
   "outputs": [],
   "source": [
    "absent.loc[absent['Reason for absence']==0,'Reason for absence'] = 26"
   ]
  },
  {
   "cell_type": "code",
   "execution_count": 16,
   "metadata": {},
   "outputs": [
    {
     "data": {
      "text/plain": [
       "ID                                  0\n",
       "Reason for absence                  0\n",
       "Month of absence                    1\n",
       "Day of the week                     0\n",
       "Seasons                             0\n",
       "Transportation expense              7\n",
       "Distance from Residence to Work     3\n",
       "Service time                        3\n",
       "Age                                 3\n",
       "Work load Average/day              10\n",
       "Hit target                          6\n",
       "Disciplinary failure                6\n",
       "Education                          10\n",
       "Son                                 6\n",
       "Social drinker                      3\n",
       "Social smoker                       4\n",
       "Pet                                 2\n",
       "Weight                              1\n",
       "Height                             13\n",
       "Body mass index                    29\n",
       "Absenteeism time in hours          22\n",
       "dtype: int64"
      ]
     },
     "execution_count": 16,
     "metadata": {},
     "output_type": "execute_result"
    }
   ],
   "source": [
    "absent.isnull().sum()"
   ]
  },
  {
   "cell_type": "markdown",
   "metadata": {},
   "source": [
    "Putting 'Month of absence' null value equal to 10"
   ]
  },
  {
   "cell_type": "code",
   "execution_count": 17,
   "metadata": {},
   "outputs": [],
   "source": [
    "absent.loc[absent['Month of absence'].isnull(),'Month of absence'] = 10"
   ]
  },
  {
   "cell_type": "code",
   "execution_count": 18,
   "metadata": {},
   "outputs": [
    {
     "data": {
      "text/plain": [
       "ID                                  0\n",
       "Reason for absence                  0\n",
       "Month of absence                    0\n",
       "Day of the week                     0\n",
       "Seasons                             0\n",
       "Transportation expense              7\n",
       "Distance from Residence to Work     3\n",
       "Service time                        3\n",
       "Age                                 3\n",
       "Work load Average/day              10\n",
       "Hit target                          6\n",
       "Disciplinary failure                6\n",
       "Education                          10\n",
       "Son                                 6\n",
       "Social drinker                      3\n",
       "Social smoker                       4\n",
       "Pet                                 2\n",
       "Weight                              1\n",
       "Height                             13\n",
       "Body mass index                    29\n",
       "Absenteeism time in hours          22\n",
       "dtype: int64"
      ]
     },
     "execution_count": 18,
     "metadata": {},
     "output_type": "execute_result"
    }
   ],
   "source": [
    "absent .isnull().sum()"
   ]
  },
  {
   "cell_type": "markdown",
   "metadata": {},
   "source": [
    "'Transportation expense' depends on 'Distance from Residence to Work' so we will use 'Distance from Residence to Work' values to impute missing values in 'Transportation expense' "
   ]
  },
  {
   "cell_type": "code",
   "execution_count": 19,
   "metadata": {},
   "outputs": [],
   "source": [
    "absent.loc[(absent['Transportation expense'].isnull()) & (absent['Distance from Residence to Work']==51),\\\n",
    "'Transportation expense'] = absent.loc[absent['Distance from Residence to Work']==51,'Transportation expense'].mode()[0]"
   ]
  },
  {
   "cell_type": "code",
   "execution_count": 20,
   "metadata": {},
   "outputs": [],
   "source": [
    "absent.loc[(absent['Transportation expense'].isnull()) & (absent['Distance from Residence to Work']==50),\\\n",
    "'Transportation expense'] = absent.loc[absent['Distance from Residence to Work']==50,'Transportation expense'].mode()[0]"
   ]
  },
  {
   "cell_type": "code",
   "execution_count": 21,
   "metadata": {},
   "outputs": [],
   "source": [
    "absent.loc[(absent['Transportation expense'].isnull()) & (absent['Distance from Residence to Work']==52),\\\n",
    "'Transportation expense'] = absent.loc[absent['Distance from Residence to Work']==52,'Transportation expense'].mode()[0]"
   ]
  },
  {
   "cell_type": "code",
   "execution_count": 22,
   "metadata": {},
   "outputs": [],
   "source": [
    "absent.loc[(absent['Transportation expense'].isnull()) & (absent['Distance from Residence to Work']==11),\\\n",
    "'Transportation expense'] = absent.loc[absent['Distance from Residence to Work']==11,'Transportation expense'].mode()[0]"
   ]
  },
  {
   "cell_type": "code",
   "execution_count": 23,
   "metadata": {},
   "outputs": [],
   "source": [
    "absent.loc[(absent['Transportation expense'].isnull()) & (absent['Distance from Residence to Work']==31),\\\n",
    "'Transportation expense'] = absent.loc[absent['Distance from Residence to Work']==31,'Transportation expense'].mode()[0]"
   ]
  },
  {
   "cell_type": "code",
   "execution_count": 24,
   "metadata": {},
   "outputs": [],
   "source": [
    "absent.loc[(absent['Transportation expense'].isnull()) & (absent['ID']==22),\\\n",
    "'Transportation expense'] = absent.loc[absent['ID']==22,'Transportation expense'].mode()[0]"
   ]
  },
  {
   "cell_type": "code",
   "execution_count": 25,
   "metadata": {},
   "outputs": [
    {
     "data": {
      "text/plain": [
       "ID                                  0\n",
       "Reason for absence                  0\n",
       "Month of absence                    0\n",
       "Day of the week                     0\n",
       "Seasons                             0\n",
       "Transportation expense              0\n",
       "Distance from Residence to Work     3\n",
       "Service time                        3\n",
       "Age                                 3\n",
       "Work load Average/day              10\n",
       "Hit target                          6\n",
       "Disciplinary failure                6\n",
       "Education                          10\n",
       "Son                                 6\n",
       "Social drinker                      3\n",
       "Social smoker                       4\n",
       "Pet                                 2\n",
       "Weight                              1\n",
       "Height                             13\n",
       "Body mass index                    29\n",
       "Absenteeism time in hours          22\n",
       "dtype: int64"
      ]
     },
     "execution_count": 25,
     "metadata": {},
     "output_type": "execute_result"
    }
   ],
   "source": [
    "absent.isnull().sum()"
   ]
  },
  {
   "cell_type": "markdown",
   "metadata": {},
   "source": [
    "Using 'ID' column to impute missing value for 'Distance from Residence to Work'"
   ]
  },
  {
   "cell_type": "code",
   "execution_count": 26,
   "metadata": {},
   "outputs": [],
   "source": [
    "absent.loc[(absent['Distance from Residence to Work'].isnull()) & (absent['ID']==34),\\\n",
    "'Distance from Residence to Work'] = absent.loc[absent['ID']==34,'Distance from Residence to Work'].mode()[0]"
   ]
  },
  {
   "cell_type": "code",
   "execution_count": 27,
   "metadata": {},
   "outputs": [],
   "source": [
    "absent.loc[(absent['Distance from Residence to Work'].isnull()) & (absent['ID']==22),\\\n",
    "'Distance from Residence to Work'] = absent.loc[absent['ID']==22,'Distance from Residence to Work'].mode()[0]"
   ]
  },
  {
   "cell_type": "code",
   "execution_count": 28,
   "metadata": {},
   "outputs": [],
   "source": [
    "absent.loc[(absent['Distance from Residence to Work'].isnull()) & (absent['ID']==28),\\\n",
    "'Distance from Residence to Work'] = absent.loc[absent['ID']==28,'Distance from Residence to Work'].mode()[0]"
   ]
  },
  {
   "cell_type": "code",
   "execution_count": 29,
   "metadata": {
    "scrolled": true
   },
   "outputs": [
    {
     "data": {
      "text/plain": [
       "ID                                  0\n",
       "Reason for absence                  0\n",
       "Month of absence                    0\n",
       "Day of the week                     0\n",
       "Seasons                             0\n",
       "Transportation expense              0\n",
       "Distance from Residence to Work     0\n",
       "Service time                        3\n",
       "Age                                 3\n",
       "Work load Average/day              10\n",
       "Hit target                          6\n",
       "Disciplinary failure                6\n",
       "Education                          10\n",
       "Son                                 6\n",
       "Social drinker                      3\n",
       "Social smoker                       4\n",
       "Pet                                 2\n",
       "Weight                              1\n",
       "Height                             13\n",
       "Body mass index                    29\n",
       "Absenteeism time in hours          22\n",
       "dtype: int64"
      ]
     },
     "execution_count": 29,
     "metadata": {},
     "output_type": "execute_result"
    }
   ],
   "source": [
    "absent.isnull().sum()"
   ]
  },
  {
   "cell_type": "markdown",
   "metadata": {},
   "source": [
    "Using 'ID' column to impute missing values for 'Service time' "
   ]
  },
  {
   "cell_type": "code",
   "execution_count": 30,
   "metadata": {},
   "outputs": [],
   "source": [
    "absent.loc[(absent['Service time'].isnull()) & (absent['ID']==34),\\\n",
    "'Service time'] = absent.loc[absent['ID']==34,'Service time'].mode()[0]"
   ]
  },
  {
   "cell_type": "code",
   "execution_count": 31,
   "metadata": {},
   "outputs": [],
   "source": [
    "absent.loc[(absent['Service time'].isnull()) & (absent['ID']==28),\\\n",
    "'Service time'] = absent.loc[absent['ID']==28,'Service time'].mode()[0]"
   ]
  },
  {
   "cell_type": "code",
   "execution_count": 32,
   "metadata": {},
   "outputs": [
    {
     "data": {
      "text/plain": [
       "ID                                  0\n",
       "Reason for absence                  0\n",
       "Month of absence                    0\n",
       "Day of the week                     0\n",
       "Seasons                             0\n",
       "Transportation expense              0\n",
       "Distance from Residence to Work     0\n",
       "Service time                        0\n",
       "Age                                 3\n",
       "Work load Average/day              10\n",
       "Hit target                          6\n",
       "Disciplinary failure                6\n",
       "Education                          10\n",
       "Son                                 6\n",
       "Social drinker                      3\n",
       "Social smoker                       4\n",
       "Pet                                 2\n",
       "Weight                              1\n",
       "Height                             13\n",
       "Body mass index                    29\n",
       "Absenteeism time in hours          22\n",
       "dtype: int64"
      ]
     },
     "execution_count": 32,
     "metadata": {},
     "output_type": "execute_result"
    }
   ],
   "source": [
    "absent.isnull().sum()"
   ]
  },
  {
   "cell_type": "markdown",
   "metadata": {},
   "source": [
    "Using 'ID' column to impute missing values for 'Age' "
   ]
  },
  {
   "cell_type": "code",
   "execution_count": 33,
   "metadata": {},
   "outputs": [],
   "source": [
    "absent.loc[(absent['Age'].isnull()) & (absent['ID']==24),\\\n",
    "'Age'] = absent.loc[absent['ID']==24,'Age'].mode()[0]"
   ]
  },
  {
   "cell_type": "code",
   "execution_count": 34,
   "metadata": {},
   "outputs": [],
   "source": [
    "absent.loc[(absent['Age'].isnull()) & (absent['ID']==28),\\\n",
    "'Age'] = absent.loc[absent['ID']==28,'Age'].mode()[0]"
   ]
  },
  {
   "cell_type": "code",
   "execution_count": 35,
   "metadata": {},
   "outputs": [
    {
     "data": {
      "text/plain": [
       "ID                                  0\n",
       "Reason for absence                  0\n",
       "Month of absence                    0\n",
       "Day of the week                     0\n",
       "Seasons                             0\n",
       "Transportation expense              0\n",
       "Distance from Residence to Work     0\n",
       "Service time                        0\n",
       "Age                                 0\n",
       "Work load Average/day              10\n",
       "Hit target                          6\n",
       "Disciplinary failure                6\n",
       "Education                          10\n",
       "Son                                 6\n",
       "Social drinker                      3\n",
       "Social smoker                       4\n",
       "Pet                                 2\n",
       "Weight                              1\n",
       "Height                             13\n",
       "Body mass index                    29\n",
       "Absenteeism time in hours          22\n",
       "dtype: int64"
      ]
     },
     "execution_count": 35,
     "metadata": {},
     "output_type": "execute_result"
    }
   ],
   "source": [
    "absent.isnull().sum()"
   ]
  },
  {
   "cell_type": "markdown",
   "metadata": {},
   "source": [
    "'Work load Average/day' values are dependent upon 'Month of absence' and 'Hit target' values"
   ]
  },
  {
   "cell_type": "code",
   "execution_count": 36,
   "metadata": {},
   "outputs": [
    {
     "data": {
      "text/plain": [
       "Index(['ID', 'Reason for absence', 'Month of absence', 'Day of the week', 'Seasons', 'Transportation expense',\n",
       "       'Distance from Residence to Work', 'Service time', 'Age', 'Work load Average/day ', 'Hit target', 'Disciplinary failure',\n",
       "       'Education', 'Son', 'Social drinker', 'Social smoker', 'Pet', 'Weight', 'Height', 'Body mass index', 'Absenteeism time in hours'],\n",
       "      dtype='object')"
      ]
     },
     "execution_count": 36,
     "metadata": {},
     "output_type": "execute_result"
    }
   ],
   "source": [
    "absent.columns"
   ]
  },
  {
   "cell_type": "code",
   "execution_count": 37,
   "metadata": {},
   "outputs": [],
   "source": [
    "for i in [(9,92),(10,93),(11,93),(12,97),(1,95),(5,92)]:\n",
    "    absent.loc[((absent['Work load Average/day '].isnull()) & (absent['Month of absence']==i[0])) & (absent['Hit target']==i[1]),\\\n",
    "    'Work load Average/day '] = absent.loc[(absent['Month of absence']==i[0]) & (absent['Hit target']==i[1]),\\\n",
    "    'Work load Average/day '].mode()[0]"
   ]
  },
  {
   "cell_type": "code",
   "execution_count": 38,
   "metadata": {},
   "outputs": [
    {
     "data": {
      "text/plain": [
       "ID                                  0\n",
       "Reason for absence                  0\n",
       "Month of absence                    0\n",
       "Day of the week                     0\n",
       "Seasons                             0\n",
       "Transportation expense              0\n",
       "Distance from Residence to Work     0\n",
       "Service time                        0\n",
       "Age                                 0\n",
       "Work load Average/day               0\n",
       "Hit target                          6\n",
       "Disciplinary failure                6\n",
       "Education                          10\n",
       "Son                                 6\n",
       "Social drinker                      3\n",
       "Social smoker                       4\n",
       "Pet                                 2\n",
       "Weight                              1\n",
       "Height                             13\n",
       "Body mass index                    29\n",
       "Absenteeism time in hours          22\n",
       "dtype: int64"
      ]
     },
     "execution_count": 38,
     "metadata": {},
     "output_type": "execute_result"
    }
   ],
   "source": [
    "absent.isnull().sum()"
   ]
  },
  {
   "cell_type": "markdown",
   "metadata": {},
   "source": [
    "'Hit target' values are dependent upon 'Month of absence' and 'Work load Average/day' values"
   ]
  },
  {
   "cell_type": "code",
   "execution_count": 39,
   "metadata": {},
   "outputs": [],
   "source": [
    "for i in [(11,'306345'),(12,'261306'),(1,'308593')]:\n",
    "    absent.loc[((absent['Hit target'].isnull()) & (absent['Month of absence']==i[0])) & (absent['Work load Average/day ']==i[1]),\\\n",
    "    'Hit target'] = absent.loc[(absent['Month of absence']==i[0]) & (absent['Work load Average/day ']==i[1]),\\\n",
    "    'Hit target'].mode()[0]"
   ]
  },
  {
   "cell_type": "code",
   "execution_count": 40,
   "metadata": {},
   "outputs": [
    {
     "data": {
      "text/plain": [
       "ID                                  0\n",
       "Reason for absence                  0\n",
       "Month of absence                    0\n",
       "Day of the week                     0\n",
       "Seasons                             0\n",
       "Transportation expense              0\n",
       "Distance from Residence to Work     0\n",
       "Service time                        0\n",
       "Age                                 0\n",
       "Work load Average/day               0\n",
       "Hit target                          0\n",
       "Disciplinary failure                6\n",
       "Education                          10\n",
       "Son                                 6\n",
       "Social drinker                      3\n",
       "Social smoker                       4\n",
       "Pet                                 2\n",
       "Weight                              1\n",
       "Height                             13\n",
       "Body mass index                    29\n",
       "Absenteeism time in hours          22\n",
       "dtype: int64"
      ]
     },
     "execution_count": 40,
     "metadata": {},
     "output_type": "execute_result"
    }
   ],
   "source": [
    "absent.isnull().sum()"
   ]
  },
  {
   "cell_type": "markdown",
   "metadata": {},
   "source": [
    "'Disciplinary failure' missing values have been put to 0"
   ]
  },
  {
   "cell_type": "code",
   "execution_count": 41,
   "metadata": {},
   "outputs": [],
   "source": [
    "absent.loc[absent['Disciplinary failure'].isnull(),'Disciplinary failure'] = 0"
   ]
  },
  {
   "cell_type": "code",
   "execution_count": 42,
   "metadata": {},
   "outputs": [
    {
     "data": {
      "text/plain": [
       "ID                                  0\n",
       "Reason for absence                  0\n",
       "Month of absence                    0\n",
       "Day of the week                     0\n",
       "Seasons                             0\n",
       "Transportation expense              0\n",
       "Distance from Residence to Work     0\n",
       "Service time                        0\n",
       "Age                                 0\n",
       "Work load Average/day               0\n",
       "Hit target                          0\n",
       "Disciplinary failure                0\n",
       "Education                          10\n",
       "Son                                 6\n",
       "Social drinker                      3\n",
       "Social smoker                       4\n",
       "Pet                                 2\n",
       "Weight                              1\n",
       "Height                             13\n",
       "Body mass index                    29\n",
       "Absenteeism time in hours          22\n",
       "dtype: int64"
      ]
     },
     "execution_count": 42,
     "metadata": {},
     "output_type": "execute_result"
    }
   ],
   "source": [
    "absent.isnull().sum()"
   ]
  },
  {
   "cell_type": "markdown",
   "metadata": {},
   "source": [
    "Using 'ID' column to impute missing values for 'Education'."
   ]
  },
  {
   "cell_type": "code",
   "execution_count": 43,
   "metadata": {},
   "outputs": [],
   "source": [
    "for i in [11,10,34,14,24]:\n",
    "    absent.loc[(absent['Education'].isnull()) & (absent['ID']==i),'Education'] = absent.loc[absent['ID']==i,'Education'].mode()[0]"
   ]
  },
  {
   "cell_type": "code",
   "execution_count": 44,
   "metadata": {},
   "outputs": [
    {
     "data": {
      "text/plain": [
       "ID                                  0\n",
       "Reason for absence                  0\n",
       "Month of absence                    0\n",
       "Day of the week                     0\n",
       "Seasons                             0\n",
       "Transportation expense              0\n",
       "Distance from Residence to Work     0\n",
       "Service time                        0\n",
       "Age                                 0\n",
       "Work load Average/day               0\n",
       "Hit target                          0\n",
       "Disciplinary failure                0\n",
       "Education                           0\n",
       "Son                                 6\n",
       "Social drinker                      3\n",
       "Social smoker                       4\n",
       "Pet                                 2\n",
       "Weight                              1\n",
       "Height                             13\n",
       "Body mass index                    29\n",
       "Absenteeism time in hours          22\n",
       "dtype: int64"
      ]
     },
     "execution_count": 44,
     "metadata": {},
     "output_type": "execute_result"
    }
   ],
   "source": [
    "absent.isnull().sum()"
   ]
  },
  {
   "cell_type": "markdown",
   "metadata": {},
   "source": [
    "Using 'ID' column to impute missing values for 'Son'."
   ]
  },
  {
   "cell_type": "code",
   "execution_count": 45,
   "metadata": {},
   "outputs": [],
   "source": [
    "for i in [20,14,34,27,1]:\n",
    "    absent.loc[(absent['Son'].isnull()) & (absent['ID']==i),'Son'] = absent.loc[absent['ID']==i,'Son'].mode()[0]"
   ]
  },
  {
   "cell_type": "code",
   "execution_count": 46,
   "metadata": {
    "scrolled": true
   },
   "outputs": [
    {
     "data": {
      "text/plain": [
       "ID                                  0\n",
       "Reason for absence                  0\n",
       "Month of absence                    0\n",
       "Day of the week                     0\n",
       "Seasons                             0\n",
       "Transportation expense              0\n",
       "Distance from Residence to Work     0\n",
       "Service time                        0\n",
       "Age                                 0\n",
       "Work load Average/day               0\n",
       "Hit target                          0\n",
       "Disciplinary failure                0\n",
       "Education                           0\n",
       "Son                                 0\n",
       "Social drinker                      3\n",
       "Social smoker                       4\n",
       "Pet                                 2\n",
       "Weight                              1\n",
       "Height                             13\n",
       "Body mass index                    29\n",
       "Absenteeism time in hours          22\n",
       "dtype: int64"
      ]
     },
     "execution_count": 46,
     "metadata": {},
     "output_type": "execute_result"
    }
   ],
   "source": [
    "absent.isnull().sum()"
   ]
  },
  {
   "cell_type": "markdown",
   "metadata": {},
   "source": [
    "Using 'ID' column to impute missing values for 'Social drinker'."
   ]
  },
  {
   "cell_type": "code",
   "execution_count": 47,
   "metadata": {},
   "outputs": [],
   "source": [
    "for i in [10,14,17]:\n",
    "    absent.loc[(absent['Social drinker'].isnull()) & (absent['ID']==i),'Social drinker'] = absent.loc[absent['ID']==i,'Social drinker'].mode()[0]"
   ]
  },
  {
   "cell_type": "code",
   "execution_count": 48,
   "metadata": {},
   "outputs": [
    {
     "data": {
      "text/plain": [
       "ID                                  0\n",
       "Reason for absence                  0\n",
       "Month of absence                    0\n",
       "Day of the week                     0\n",
       "Seasons                             0\n",
       "Transportation expense              0\n",
       "Distance from Residence to Work     0\n",
       "Service time                        0\n",
       "Age                                 0\n",
       "Work load Average/day               0\n",
       "Hit target                          0\n",
       "Disciplinary failure                0\n",
       "Education                           0\n",
       "Son                                 0\n",
       "Social drinker                      0\n",
       "Social smoker                       4\n",
       "Pet                                 2\n",
       "Weight                              1\n",
       "Height                             13\n",
       "Body mass index                    29\n",
       "Absenteeism time in hours          22\n",
       "dtype: int64"
      ]
     },
     "execution_count": 48,
     "metadata": {},
     "output_type": "execute_result"
    }
   ],
   "source": [
    "absent.isnull().sum()"
   ]
  },
  {
   "cell_type": "markdown",
   "metadata": {},
   "source": [
    "Using 'ID' column to impute missing values for 'Social smoker'."
   ]
  },
  {
   "cell_type": "code",
   "execution_count": 49,
   "metadata": {},
   "outputs": [],
   "source": [
    "for i in [34,1,11,15]:\n",
    "    absent.loc[(absent['Social smoker'].isnull()) & (absent['ID']==i),'Social smoker'] = absent.loc[absent['ID']==i,'Social smoker'].mode()[0]"
   ]
  },
  {
   "cell_type": "code",
   "execution_count": 50,
   "metadata": {},
   "outputs": [
    {
     "data": {
      "text/plain": [
       "ID                                  0\n",
       "Reason for absence                  0\n",
       "Month of absence                    0\n",
       "Day of the week                     0\n",
       "Seasons                             0\n",
       "Transportation expense              0\n",
       "Distance from Residence to Work     0\n",
       "Service time                        0\n",
       "Age                                 0\n",
       "Work load Average/day               0\n",
       "Hit target                          0\n",
       "Disciplinary failure                0\n",
       "Education                           0\n",
       "Son                                 0\n",
       "Social drinker                      0\n",
       "Social smoker                       0\n",
       "Pet                                 2\n",
       "Weight                              1\n",
       "Height                             13\n",
       "Body mass index                    29\n",
       "Absenteeism time in hours          22\n",
       "dtype: int64"
      ]
     },
     "execution_count": 50,
     "metadata": {},
     "output_type": "execute_result"
    }
   ],
   "source": [
    "absent.isnull().sum()"
   ]
  },
  {
   "cell_type": "markdown",
   "metadata": {},
   "source": [
    "Using 'ID' to impute missing values for 'Pet','Weight','Height','Body mass index'"
   ]
  },
  {
   "cell_type": "code",
   "execution_count": 51,
   "metadata": {},
   "outputs": [],
   "source": [
    "for i in [1,13]:\n",
    "    absent.loc[(absent['Pet'].isnull()) & (absent['ID']==i),'Pet'] = absent.loc[absent['ID']==i,'Pet'].mode()[0]"
   ]
  },
  {
   "cell_type": "code",
   "execution_count": 52,
   "metadata": {},
   "outputs": [],
   "source": [
    "for i in [27]:\n",
    "    absent.loc[(absent['Weight'].isnull()) & (absent['ID']==i),'Weight'] = absent.loc[absent['ID']==i,'Weight'].mode()[0]"
   ]
  },
  {
   "cell_type": "code",
   "execution_count": 53,
   "metadata": {},
   "outputs": [],
   "source": [
    "for i in [20,10,28,34,27,11,5,22,13,24,32]:\n",
    "    absent.loc[(absent['Height'].isnull()) & (absent['ID']==i),'Height'] = absent.loc[absent['ID']==i,'Height'].mode()[0]"
   ]
  },
  {
   "cell_type": "code",
   "execution_count": 54,
   "metadata": {},
   "outputs": [],
   "source": [
    "for i in [3,24,11,30,2,19,34,28,13,36,14,20,18,17,15,22,5]:\n",
    "    absent.loc[(absent['Body mass index'].isnull()) & (absent['ID']==i),'Body mass index'] = absent.loc[absent['ID']==i,'Body mass index'].mode()[0]"
   ]
  },
  {
   "cell_type": "code",
   "execution_count": 55,
   "metadata": {},
   "outputs": [
    {
     "data": {
      "text/plain": [
       "ID                                  0\n",
       "Reason for absence                  0\n",
       "Month of absence                    0\n",
       "Day of the week                     0\n",
       "Seasons                             0\n",
       "Transportation expense              0\n",
       "Distance from Residence to Work     0\n",
       "Service time                        0\n",
       "Age                                 0\n",
       "Work load Average/day               0\n",
       "Hit target                          0\n",
       "Disciplinary failure                0\n",
       "Education                           0\n",
       "Son                                 0\n",
       "Social drinker                      0\n",
       "Social smoker                       0\n",
       "Pet                                 0\n",
       "Weight                              0\n",
       "Height                              0\n",
       "Body mass index                     0\n",
       "Absenteeism time in hours          22\n",
       "dtype: int64"
      ]
     },
     "execution_count": 55,
     "metadata": {},
     "output_type": "execute_result"
    }
   ],
   "source": [
    "absent.isnull().sum()"
   ]
  },
  {
   "cell_type": "markdown",
   "metadata": {},
   "source": [
    "Using 'Reason for absence' for imputing missing values in 'Absenteeism time in hours'"
   ]
  },
  {
   "cell_type": "code",
   "execution_count": 56,
   "metadata": {},
   "outputs": [],
   "source": [
    "for i in [23,14,10,22,26,6,28,11,13]:\n",
    "    absent.loc[(absent['Absenteeism time in hours'].isnull()) & (absent['Reason for absence']==i),'Absenteeism time in hours'] = absent.loc[absent['Reason for absence']==i,'Absenteeism time in hours'].median()"
   ]
  },
  {
   "cell_type": "code",
   "execution_count": 57,
   "metadata": {},
   "outputs": [
    {
     "data": {
      "text/plain": [
       "ID                                 0\n",
       "Reason for absence                 0\n",
       "Month of absence                   0\n",
       "Day of the week                    0\n",
       "Seasons                            0\n",
       "Transportation expense             0\n",
       "Distance from Residence to Work    0\n",
       "Service time                       0\n",
       "Age                                0\n",
       "Work load Average/day              0\n",
       "Hit target                         0\n",
       "Disciplinary failure               0\n",
       "Education                          0\n",
       "Son                                0\n",
       "Social drinker                     0\n",
       "Social smoker                      0\n",
       "Pet                                0\n",
       "Weight                             0\n",
       "Height                             0\n",
       "Body mass index                    0\n",
       "Absenteeism time in hours          0\n",
       "dtype: int64"
      ]
     },
     "execution_count": 57,
     "metadata": {},
     "output_type": "execute_result"
    }
   ],
   "source": [
    "absent.isnull().sum()"
   ]
  },
  {
   "cell_type": "markdown",
   "metadata": {},
   "source": [
    "# All missing values have been imputed."
   ]
  },
  {
   "cell_type": "markdown",
   "metadata": {},
   "source": [
    "Converting 'Work load Average/day' variable from object to int type."
   ]
  },
  {
   "cell_type": "code",
   "execution_count": 58,
   "metadata": {},
   "outputs": [
    {
     "data": {
      "text/plain": [
       "ID                                   int64\n",
       "Reason for absence                 float64\n",
       "Month of absence                   float64\n",
       "Day of the week                      int64\n",
       "Seasons                              int64\n",
       "Transportation expense             float64\n",
       "Distance from Residence to Work    float64\n",
       "Service time                       float64\n",
       "Age                                float64\n",
       "Work load Average/day               object\n",
       "Hit target                         float64\n",
       "Disciplinary failure               float64\n",
       "Education                          float64\n",
       "Son                                float64\n",
       "Social drinker                     float64\n",
       "Social smoker                      float64\n",
       "Pet                                float64\n",
       "Weight                             float64\n",
       "Height                             float64\n",
       "Body mass index                    float64\n",
       "Absenteeism time in hours          float64\n",
       "dtype: object"
      ]
     },
     "execution_count": 58,
     "metadata": {},
     "output_type": "execute_result"
    }
   ],
   "source": [
    "absent.dtypes"
   ]
  },
  {
   "cell_type": "code",
   "execution_count": 59,
   "metadata": {},
   "outputs": [],
   "source": [
    "absent['Work load Average/day '] = absent['Work load Average/day '].astype('int')"
   ]
  },
  {
   "cell_type": "markdown",
   "metadata": {},
   "source": [
    "# Continuous Variables Distributions"
   ]
  },
  {
   "cell_type": "code",
   "execution_count": 60,
   "metadata": {},
   "outputs": [
    {
     "name": "stderr",
     "output_type": "stream",
     "text": [
      "C:\\Users\\HP\\Anaconda3\\lib\\site-packages\\scipy\\stats\\stats.py:1713: FutureWarning: Using a non-tuple sequence for multidimensional indexing is deprecated; use `arr[tuple(seq)]` instead of `arr[seq]`. In the future this will be interpreted as an array index, `arr[np.array(seq)]`, which will result either in an error or a different result.\n",
      "  return np.add.reduce(sorted[indexer] * weights, axis=axis) / sumval\n"
     ]
    },
    {
     "data": {
      "text/plain": [
       "<matplotlib.axes._subplots.AxesSubplot at 0x1cd057b7f98>"
      ]
     },
     "execution_count": 60,
     "metadata": {},
     "output_type": "execute_result"
    },
    {
     "data": {
      "image/png": "[encoded data removed]",
      "text/plain": [
       "<Figure size 432x288 with 1 Axes>"
      ]
     },
     "metadata": {},
     "output_type": "display_data"
    }
   ],
   "source": [
    "sns.distplot(absent['Transportation expense'])"
   ]
  },
  {
   "cell_type": "code",
   "execution_count": 61,
   "metadata": {},
   "outputs": [
    {
     "name": "stderr",
     "output_type": "stream",
     "text": [
      "C:\\Users\\HP\\Anaconda3\\lib\\site-packages\\scipy\\stats\\stats.py:1713: FutureWarning: Using a non-tuple sequence for multidimensional indexing is deprecated; use `arr[tuple(seq)]` instead of `arr[seq]`. In the future this will be interpreted as an array index, `arr[np.array(seq)]`, which will result either in an error or a different result.\n",
      "  return np.add.reduce(sorted[indexer] * weights, axis=axis) / sumval\n"
     ]
    },
    {
     "data": {
      "text/plain": [
       "<matplotlib.axes._subplots.AxesSubplot at 0x1cd05aa7a90>"
      ]
     },
     "execution_count": 61,
     "metadata": {},
     "output_type": "execute_result"
    },
    {
     "data": {
      "image/png": "[encoded data removed]",
      "text/plain": [
       "<Figure size 432x288 with 1 Axes>"
      ]
     },
     "metadata": {},
     "output_type": "display_data"
    }
   ],
   "source": [
    "sns.distplot(absent['Distance from Residence to Work'])"
   ]
  },
  {
   "cell_type": "code",
   "execution_count": 62,
   "metadata": {},
   "outputs": [
    {
     "name": "stderr",
     "output_type": "stream",
     "text": [
      "C:\\Users\\HP\\Anaconda3\\lib\\site-packages\\scipy\\stats\\stats.py:1713: FutureWarning: Using a non-tuple sequence for multidimensional indexing is deprecated; use `arr[tuple(seq)]` instead of `arr[seq]`. In the future this will be interpreted as an array index, `arr[np.array(seq)]`, which will result either in an error or a different result.\n",
      "  return np.add.reduce(sorted[indexer] * weights, axis=axis) / sumval\n"
     ]
    },
    {
     "data": {
      "text/plain": [
       "<matplotlib.axes._subplots.AxesSubplot at 0x1cd05b23be0>"
      ]
     },
     "execution_count": 62,
     "metadata": {},
     "output_type": "execute_result"
    },
    {
     "data": {
      "image/png": "[encoded data removed]",
      "text/plain": [
       "<Figure size 432x288 with 1 Axes>"
      ]
     },
     "metadata": {},
     "output_type": "display_data"
    }
   ],
   "source": [
    "sns.distplot(absent['Service time'])"
   ]
  },
  {
   "cell_type": "code",
   "execution_count": 63,
   "metadata": {},
   "outputs": [
    {
     "name": "stderr",
     "output_type": "stream",
     "text": [
      "C:\\Users\\HP\\Anaconda3\\lib\\site-packages\\scipy\\stats\\stats.py:1713: FutureWarning: Using a non-tuple sequence for multidimensional indexing is deprecated; use `arr[tuple(seq)]` instead of `arr[seq]`. In the future this will be interpreted as an array index, `arr[np.array(seq)]`, which will result either in an error or a different result.\n",
      "  return np.add.reduce(sorted[indexer] * weights, axis=axis) / sumval\n"
     ]
    },
    {
     "data": {
      "text/plain": [
       "<matplotlib.axes._subplots.AxesSubplot at 0x1cd05b4aac8>"
      ]
     },
     "execution_count": 63,
     "metadata": {},
     "output_type": "execute_result"
    },
    {
     "data": {
      "image/png": "[encoded data removed]",
      "text/plain": [
       "<Figure size 432x288 with 1 Axes>"
      ]
     },
     "metadata": {},
     "output_type": "display_data"
    }
   ],
   "source": [
    "sns.distplot(absent['Age'])"
   ]
  },
  {
   "cell_type": "code",
   "execution_count": 64,
   "metadata": {},
   "outputs": [
    {
     "name": "stderr",
     "output_type": "stream",
     "text": [
      "C:\\Users\\HP\\Anaconda3\\lib\\site-packages\\scipy\\stats\\stats.py:1713: FutureWarning: Using a non-tuple sequence for multidimensional indexing is deprecated; use `arr[tuple(seq)]` instead of `arr[seq]`. In the future this will be interpreted as an array index, `arr[np.array(seq)]`, which will result either in an error or a different result.\n",
      "  return np.add.reduce(sorted[indexer] * weights, axis=axis) / sumval\n"
     ]
    },
    {
     "data": {
      "text/plain": [
       "<matplotlib.axes._subplots.AxesSubplot at 0x1cd05beeda0>"
      ]
     },
     "execution_count": 64,
     "metadata": {},
     "output_type": "execute_result"
    },
    {
     "data": {
      "image/png": "[encoded data removed]",
      "text/plain": [
       "<Figure size 432x288 with 1 Axes>"
      ]
     },
     "metadata": {},
     "output_type": "display_data"
    }
   ],
   "source": [
    "sns.distplot(absent['Work load Average/day '])"
   ]
  },
  {
   "cell_type": "code",
   "execution_count": 65,
   "metadata": {},
   "outputs": [
    {
     "name": "stderr",
     "output_type": "stream",
     "text": [
      "C:\\Users\\HP\\Anaconda3\\lib\\site-packages\\scipy\\stats\\stats.py:1713: FutureWarning: Using a non-tuple sequence for multidimensional indexing is deprecated; use `arr[tuple(seq)]` instead of `arr[seq]`. In the future this will be interpreted as an array index, `arr[np.array(seq)]`, which will result either in an error or a different result.\n",
      "  return np.add.reduce(sorted[indexer] * weights, axis=axis) / sumval\n"
     ]
    },
    {
     "data": {
      "text/plain": [
       "<matplotlib.axes._subplots.AxesSubplot at 0x1cd05c23c50>"
      ]
     },
     "execution_count": 65,
     "metadata": {},
     "output_type": "execute_result"
    },
    {
     "data": {
      "image/png": "[encoded data removed]",
      "text/plain": [
       "<Figure size 432x288 with 1 Axes>"
      ]
     },
     "metadata": {},
     "output_type": "display_data"
    }
   ],
   "source": [
    "sns.distplot(absent['Hit target'])"
   ]
  },
  {
   "cell_type": "code",
   "execution_count": 66,
   "metadata": {},
   "outputs": [
    {
     "name": "stderr",
     "output_type": "stream",
     "text": [
      "C:\\Users\\HP\\Anaconda3\\lib\\site-packages\\scipy\\stats\\stats.py:1713: FutureWarning: Using a non-tuple sequence for multidimensional indexing is deprecated; use `arr[tuple(seq)]` instead of `arr[seq]`. In the future this will be interpreted as an array index, `arr[np.array(seq)]`, which will result either in an error or a different result.\n",
      "  return np.add.reduce(sorted[indexer] * weights, axis=axis) / sumval\n"
     ]
    },
    {
     "data": {
      "text/plain": [
       "<matplotlib.axes._subplots.AxesSubplot at 0x1cd05c5f7f0>"
      ]
     },
     "execution_count": 66,
     "metadata": {},
     "output_type": "execute_result"
    },
    {
     "data": {
      "image/png": "[encoded data removed]",
      "text/plain": [
       "<Figure size 432x288 with 1 Axes>"
      ]
     },
     "metadata": {},
     "output_type": "display_data"
    }
   ],
   "source": [
    "sns.distplot(absent['Weight'])"
   ]
  },
  {
   "cell_type": "code",
   "execution_count": 67,
   "metadata": {},
   "outputs": [
    {
     "name": "stderr",
     "output_type": "stream",
     "text": [
      "C:\\Users\\HP\\Anaconda3\\lib\\site-packages\\scipy\\stats\\stats.py:1713: FutureWarning: Using a non-tuple sequence for multidimensional indexing is deprecated; use `arr[tuple(seq)]` instead of `arr[seq]`. In the future this will be interpreted as an array index, `arr[np.array(seq)]`, which will result either in an error or a different result.\n",
      "  return np.add.reduce(sorted[indexer] * weights, axis=axis) / sumval\n"
     ]
    },
    {
     "data": {
      "text/plain": [
       "<matplotlib.axes._subplots.AxesSubplot at 0x1cd05db8860>"
      ]
     },
     "execution_count": 67,
     "metadata": {},
     "output_type": "execute_result"
    },
    {
     "data": {
      "image/png": "[encoded data removed]",
      "text/plain": [
       "<Figure size 432x288 with 1 Axes>"
      ]
     },
     "metadata": {},
     "output_type": "display_data"
    }
   ],
   "source": [
    "sns.distplot(absent['Height'])"
   ]
  },
  {
   "cell_type": "code",
   "execution_count": 68,
   "metadata": {},
   "outputs": [
    {
     "name": "stderr",
     "output_type": "stream",
     "text": [
      "C:\\Users\\HP\\Anaconda3\\lib\\site-packages\\scipy\\stats\\stats.py:1713: FutureWarning: Using a non-tuple sequence for multidimensional indexing is deprecated; use `arr[tuple(seq)]` instead of `arr[seq]`. In the future this will be interpreted as an array index, `arr[np.array(seq)]`, which will result either in an error or a different result.\n",
      "  return np.add.reduce(sorted[indexer] * weights, axis=axis) / sumval\n"
     ]
    },
    {
     "data": {
      "text/plain": [
       "<matplotlib.axes._subplots.AxesSubplot at 0x1cd05e49e10>"
      ]
     },
     "execution_count": 68,
     "metadata": {},
     "output_type": "execute_result"
    },
    {
     "data": {
      "image/png": "[encoded data removed]",
      "text/plain": [
       "<Figure size 432x288 with 1 Axes>"
      ]
     },
     "metadata": {},
     "output_type": "display_data"
    }
   ],
   "source": [
    "sns.distplot(absent['Body mass index'])"
   ]
  },
  {
   "cell_type": "markdown",
   "metadata": {},
   "source": [
    "# All continuous variables have skewed distributions"
   ]
  },
  {
   "cell_type": "markdown",
   "metadata": {},
   "source": [
    "# Outlier Analysis for continuous variables"
   ]
  },
  {
   "cell_type": "code",
   "execution_count": 69,
   "metadata": {},
   "outputs": [
    {
     "data": {
      "text/plain": [
       "Index(['ID', 'Reason for absence', 'Month of absence', 'Day of the week', 'Seasons', 'Transportation expense',\n",
       "       'Distance from Residence to Work', 'Service time', 'Age', 'Work load Average/day ', 'Hit target', 'Disciplinary failure',\n",
       "       'Education', 'Son', 'Social drinker', 'Social smoker', 'Pet', 'Weight', 'Height', 'Body mass index', 'Absenteeism time in hours'],\n",
       "      dtype='object')"
      ]
     },
     "execution_count": 69,
     "metadata": {},
     "output_type": "execute_result"
    }
   ],
   "source": [
    "absent.columns"
   ]
  },
  {
   "cell_type": "code",
   "execution_count": 70,
   "metadata": {},
   "outputs": [
    {
     "data": {
      "text/plain": [
       "<matplotlib.axes._subplots.AxesSubplot at 0x1cd05f18fd0>"
      ]
     },
     "execution_count": 70,
     "metadata": {},
     "output_type": "execute_result"
    },
    {
     "data": {
      "image/png": "[encoded data removed]",
      "text/plain": [
       "<Figure size 936x612 with 1 Axes>"
      ]
     },
     "metadata": {},
     "output_type": "display_data"
    }
   ],
   "source": [
    "fig_size = plt.rcParams[\"figure.figsize\"]\n",
    "fig_size[0] = 13\n",
    "fig_size[1] = 8.5\n",
    "plt.rcParams[\"figure.figsize\"] = fig_size\n",
    "absent.boxplot(column=['Transportation expense','Distance from Residence to Work', 'Service time', 'Age','Hit target'])"
   ]
  },
  {
   "cell_type": "code",
   "execution_count": 71,
   "metadata": {},
   "outputs": [
    {
     "data": {
      "text/plain": [
       "<matplotlib.axes._subplots.AxesSubplot at 0x1cd06213c50>"
      ]
     },
     "execution_count": 71,
     "metadata": {},
     "output_type": "execute_result"
    },
    {
     "data": {
      "image/png": "[encoded data removed]",
      "text/plain": [
       "<Figure size 936x612 with 1 Axes>"
      ]
     },
     "metadata": {},
     "output_type": "display_data"
    }
   ],
   "source": [
    "absent.boxplot(column = ['Weight', 'Height', 'Body mass index','Absenteeism time in hours'])"
   ]
  },
  {
   "cell_type": "code",
   "execution_count": 72,
   "metadata": {},
   "outputs": [
    {
     "data": {
      "text/plain": [
       "<matplotlib.axes._subplots.AxesSubplot at 0x1cd0602fa58>"
      ]
     },
     "execution_count": 72,
     "metadata": {},
     "output_type": "execute_result"
    },
    {
     "data": {
      "image/png": "[encoded data removed]",
      "text/plain": [
       "<Figure size 936x612 with 1 Axes>"
      ]
     },
     "metadata": {},
     "output_type": "display_data"
    }
   ],
   "source": [
    "absent.boxplot(column=['Work load Average/day '])"
   ]
  },
  {
   "cell_type": "markdown",
   "metadata": {},
   "source": [
    "Capping outliers"
   ]
  },
  {
   "cell_type": "code",
   "execution_count": 73,
   "metadata": {},
   "outputs": [],
   "source": [
    "for i in ['Transportation expense','Service time','Age','Work load Average/day ','Hit target','Height',\n",
    "'Absenteeism time in hours']:\n",
    "    q75,q25 = np.percentile(absent.loc[:,i],[75,25])\n",
    "    iqr = q75-q25\n",
    "    min = q25-1.5*iqr\n",
    "    max = q75+1.5*iqr\n",
    "    absent.loc[absent[i] < min,i] = min\n",
    "    absent.loc[absent[i] > max,i] = max"
   ]
  },
  {
   "cell_type": "code",
   "execution_count": 74,
   "metadata": {},
   "outputs": [
    {
     "data": {
      "text/plain": [
       "<matplotlib.axes._subplots.AxesSubplot at 0x1cd06661f98>"
      ]
     },
     "execution_count": 74,
     "metadata": {},
     "output_type": "execute_result"
    },
    {
     "data": {
      "image/png": "[encoded data removed]",
      "text/plain": [
       "<Figure size 936x612 with 1 Axes>"
      ]
     },
     "metadata": {},
     "output_type": "display_data"
    }
   ],
   "source": [
    "absent.boxplot(column=['Transportation expense','Distance from Residence to Work', 'Service time', 'Age','Hit target'])"
   ]
  },
  {
   "cell_type": "code",
   "execution_count": 75,
   "metadata": {},
   "outputs": [
    {
     "data": {
      "text/plain": [
       "<matplotlib.axes._subplots.AxesSubplot at 0x1cd06493f98>"
      ]
     },
     "execution_count": 75,
     "metadata": {},
     "output_type": "execute_result"
    },
    {
     "data": {
      "image/png": "[encoded data removed]",
      "text/plain": [
       "<Figure size 936x612 with 1 Axes>"
      ]
     },
     "metadata": {},
     "output_type": "display_data"
    }
   ],
   "source": [
    "absent.boxplot(column = ['Weight', 'Height', 'Body mass index','Absenteeism time in hours'])"
   ]
  },
  {
   "cell_type": "code",
   "execution_count": 76,
   "metadata": {},
   "outputs": [
    {
     "data": {
      "text/plain": [
       "<matplotlib.axes._subplots.AxesSubplot at 0x1cd06894780>"
      ]
     },
     "execution_count": 76,
     "metadata": {},
     "output_type": "execute_result"
    },
    {
     "data": {
      "image/png": "[encoded data removed]",
      "text/plain": [
       "<Figure size 936x612 with 1 Axes>"
      ]
     },
     "metadata": {},
     "output_type": "display_data"
    }
   ],
   "source": [
    "absent.boxplot(column=['Work load Average/day '])"
   ]
  },
  {
   "cell_type": "markdown",
   "metadata": {},
   "source": [
    "# Correlation Analysis"
   ]
  },
  {
   "cell_type": "markdown",
   "metadata": {},
   "source": [
    "Converting variables to categorical variables"
   ]
  },
  {
   "cell_type": "code",
   "execution_count": 77,
   "metadata": {},
   "outputs": [],
   "source": [
    "catcols = ['Reason for absence', 'Month of absence', 'Day of the week', 'Seasons','Disciplinary failure','Education',\\\n",
    "'Son', 'Social drinker', 'Social smoker', 'Pet']"
   ]
  },
  {
   "cell_type": "code",
   "execution_count": 78,
   "metadata": {},
   "outputs": [],
   "source": [
    "for i in catcols:\n",
    "    absent[i] = absent[i].astype('category')"
   ]
  },
  {
   "cell_type": "code",
   "execution_count": 79,
   "metadata": {},
   "outputs": [
    {
     "data": {
      "text/plain": [
       "ID                                    int64\n",
       "Reason for absence                 category\n",
       "Month of absence                   category\n",
       "Day of the week                    category\n",
       "Seasons                            category\n",
       "Transportation expense              float64\n",
       "Distance from Residence to Work     float64\n",
       "Service time                        float64\n",
       "Age                                 float64\n",
       "Work load Average/day               float64\n",
       "Hit target                          float64\n",
       "Disciplinary failure               category\n",
       "Education                          category\n",
       "Son                                category\n",
       "Social drinker                     category\n",
       "Social smoker                      category\n",
       "Pet                                category\n",
       "Weight                              float64\n",
       "Height                              float64\n",
       "Body mass index                     float64\n",
       "Absenteeism time in hours           float64\n",
       "dtype: object"
      ]
     },
     "execution_count": 79,
     "metadata": {},
     "output_type": "execute_result"
    }
   ],
   "source": [
    "absent.dtypes"
   ]
  },
  {
   "cell_type": "markdown",
   "metadata": {},
   "source": [
    "Doing Chi-square test for correlation between categorical variables"
   ]
  },
  {
   "cell_type": "code",
   "execution_count": 80,
   "metadata": {},
   "outputs": [],
   "source": [
    "from scipy.stats import chi2_contingency"
   ]
  },
  {
   "cell_type": "code",
   "execution_count": 81,
   "metadata": {},
   "outputs": [
    {
     "data": {
      "text/html": [
       "<div>\n",
       "<style scoped>\n",
       "    .dataframe tbody tr th:only-of-type {\n",
       "        vertical-align: middle;\n",
       "    }\n",
       "\n",
       "    .dataframe tbody tr th {\n",
       "        vertical-align: top;\n",
       "    }\n",
       "\n",
       "    .dataframe thead th {\n",
       "        text-align: right;\n",
       "    }\n",
       "</style>\n",
       "<table border=\"1\" class=\"dataframe\">\n",
       "  <thead>\n",
       "    <tr style=\"text-align: right;\">\n",
       "      <th></th>\n",
       "      <th>Reason for absence</th>\n",
       "      <th>Month of absence</th>\n",
       "      <th>Day of the week</th>\n",
       "      <th>Seasons</th>\n",
       "      <th>Disciplinary failure</th>\n",
       "      <th>Education</th>\n",
       "      <th>Son</th>\n",
       "      <th>Social drinker</th>\n",
       "      <th>Social smoker</th>\n",
       "      <th>Pet</th>\n",
       "    </tr>\n",
       "  </thead>\n",
       "  <tbody>\n",
       "    <tr>\n",
       "      <th>Reason for absence</th>\n",
       "      <td>0.000000e+00</td>\n",
       "      <td>2.328978e-15</td>\n",
       "      <td>6.131313e-02</td>\n",
       "      <td>5.901286e-21</td>\n",
       "      <td>4.768228e-13</td>\n",
       "      <td>1.749968e-10</td>\n",
       "      <td>1.741446e-18</td>\n",
       "      <td>1.711278e-08</td>\n",
       "      <td>1.914852e-08</td>\n",
       "      <td>9.402040e-19</td>\n",
       "    </tr>\n",
       "    <tr>\n",
       "      <th>Month of absence</th>\n",
       "      <td>2.328978e-15</td>\n",
       "      <td>0.000000e+00</td>\n",
       "      <td>6.087582e-01</td>\n",
       "      <td>0.000000e+00</td>\n",
       "      <td>4.180979e-01</td>\n",
       "      <td>8.639891e-03</td>\n",
       "      <td>3.123398e-05</td>\n",
       "      <td>2.363939e-02</td>\n",
       "      <td>3.194987e-02</td>\n",
       "      <td>5.667973e-05</td>\n",
       "    </tr>\n",
       "    <tr>\n",
       "      <th>Day of the week</th>\n",
       "      <td>6.131313e-02</td>\n",
       "      <td>6.087582e-01</td>\n",
       "      <td>0.000000e+00</td>\n",
       "      <td>3.948001e-01</td>\n",
       "      <td>2.460672e-01</td>\n",
       "      <td>5.439849e-01</td>\n",
       "      <td>2.223057e-09</td>\n",
       "      <td>3.575265e-01</td>\n",
       "      <td>8.227146e-01</td>\n",
       "      <td>4.046197e-01</td>\n",
       "    </tr>\n",
       "    <tr>\n",
       "      <th>Seasons</th>\n",
       "      <td>5.901286e-21</td>\n",
       "      <td>0.000000e+00</td>\n",
       "      <td>3.948001e-01</td>\n",
       "      <td>0.000000e+00</td>\n",
       "      <td>2.425953e-02</td>\n",
       "      <td>6.286186e-02</td>\n",
       "      <td>1.059010e-05</td>\n",
       "      <td>1.981972e-01</td>\n",
       "      <td>1.569992e-01</td>\n",
       "      <td>1.772464e-04</td>\n",
       "    </tr>\n",
       "    <tr>\n",
       "      <th>Disciplinary failure</th>\n",
       "      <td>4.768228e-13</td>\n",
       "      <td>4.180979e-01</td>\n",
       "      <td>2.460672e-01</td>\n",
       "      <td>2.425953e-02</td>\n",
       "      <td>0.000000e+00</td>\n",
       "      <td>9.094792e-01</td>\n",
       "      <td>4.545640e-01</td>\n",
       "      <td>6.721064e-01</td>\n",
       "      <td>2.660185e-03</td>\n",
       "      <td>7.200002e-01</td>\n",
       "    </tr>\n",
       "    <tr>\n",
       "      <th>Education</th>\n",
       "      <td>1.749968e-10</td>\n",
       "      <td>8.639891e-03</td>\n",
       "      <td>5.439849e-01</td>\n",
       "      <td>6.286186e-02</td>\n",
       "      <td>9.094792e-01</td>\n",
       "      <td>0.000000e+00</td>\n",
       "      <td>9.146983e-12</td>\n",
       "      <td>3.391862e-34</td>\n",
       "      <td>1.984123e-24</td>\n",
       "      <td>1.176649e-29</td>\n",
       "    </tr>\n",
       "    <tr>\n",
       "      <th>Son</th>\n",
       "      <td>1.741446e-18</td>\n",
       "      <td>3.123398e-05</td>\n",
       "      <td>2.223057e-09</td>\n",
       "      <td>1.059010e-05</td>\n",
       "      <td>4.545640e-01</td>\n",
       "      <td>9.146983e-12</td>\n",
       "      <td>0.000000e+00</td>\n",
       "      <td>3.706723e-09</td>\n",
       "      <td>4.132435e-21</td>\n",
       "      <td>2.225197e-88</td>\n",
       "    </tr>\n",
       "    <tr>\n",
       "      <th>Social drinker</th>\n",
       "      <td>1.711278e-08</td>\n",
       "      <td>2.363939e-02</td>\n",
       "      <td>3.575265e-01</td>\n",
       "      <td>1.981972e-01</td>\n",
       "      <td>6.721064e-01</td>\n",
       "      <td>3.391862e-34</td>\n",
       "      <td>3.706723e-09</td>\n",
       "      <td>0.000000e+00</td>\n",
       "      <td>1.515194e-02</td>\n",
       "      <td>1.196121e-26</td>\n",
       "    </tr>\n",
       "    <tr>\n",
       "      <th>Social smoker</th>\n",
       "      <td>1.914852e-08</td>\n",
       "      <td>3.194987e-02</td>\n",
       "      <td>8.227146e-01</td>\n",
       "      <td>1.569992e-01</td>\n",
       "      <td>2.660185e-03</td>\n",
       "      <td>1.984123e-24</td>\n",
       "      <td>4.132435e-21</td>\n",
       "      <td>1.515194e-02</td>\n",
       "      <td>0.000000e+00</td>\n",
       "      <td>5.706486e-14</td>\n",
       "    </tr>\n",
       "    <tr>\n",
       "      <th>Pet</th>\n",
       "      <td>9.402040e-19</td>\n",
       "      <td>5.667973e-05</td>\n",
       "      <td>4.046197e-01</td>\n",
       "      <td>1.772464e-04</td>\n",
       "      <td>7.200002e-01</td>\n",
       "      <td>1.176649e-29</td>\n",
       "      <td>2.225197e-88</td>\n",
       "      <td>1.196121e-26</td>\n",
       "      <td>5.706486e-14</td>\n",
       "      <td>0.000000e+00</td>\n",
       "    </tr>\n",
       "  </tbody>\n",
       "</table>\n",
       "</div>"
      ],
      "text/plain": [
       "                      Reason for absence  Month of absence  Day of the week       Seasons  Disciplinary failure     Education  \\\n",
       "Reason for absence          0.000000e+00      2.328978e-15     6.131313e-02  5.901286e-21          4.768228e-13  1.749968e-10   \n",
       "Month of absence            2.328978e-15      0.000000e+00     6.087582e-01  0.000000e+00          4.180979e-01  8.639891e-03   \n",
       "Day of the week             6.131313e-02      6.087582e-01     0.000000e+00  3.948001e-01          2.460672e-01  5.439849e-01   \n",
       "Seasons                     5.901286e-21      0.000000e+00     3.948001e-01  0.000000e+00          2.425953e-02  6.286186e-02   \n",
       "Disciplinary failure        4.768228e-13      4.180979e-01     2.460672e-01  2.425953e-02          0.000000e+00  9.094792e-01   \n",
       "Education                   1.749968e-10      8.639891e-03     5.439849e-01  6.286186e-02          9.094792e-01  0.000000e+00   \n",
       "Son                         1.741446e-18      3.123398e-05     2.223057e-09  1.059010e-05          4.545640e-01  9.146983e-12   \n",
       "Social drinker              1.711278e-08      2.363939e-02     3.575265e-01  1.981972e-01          6.721064e-01  3.391862e-34   \n",
       "Social smoker               1.914852e-08      3.194987e-02     8.227146e-01  1.569992e-01          2.660185e-03  1.984123e-24   \n",
       "Pet                         9.402040e-19      5.667973e-05     4.046197e-01  1.772464e-04          7.200002e-01  1.176649e-29   \n",
       "\n",
       "                               Son  Social drinker  Social smoker           Pet  \n",
       "Reason for absence    1.741446e-18    1.711278e-08   1.914852e-08  9.402040e-19  \n",
       "Month of absence      3.123398e-05    2.363939e-02   3.194987e-02  5.667973e-05  \n",
       "Day of the week       2.223057e-09    3.575265e-01   8.227146e-01  4.046197e-01  \n",
       "Seasons               1.059010e-05    1.981972e-01   1.569992e-01  1.772464e-04  \n",
       "Disciplinary failure  4.545640e-01    6.721064e-01   2.660185e-03  7.200002e-01  \n",
       "Education             9.146983e-12    3.391862e-34   1.984123e-24  1.176649e-29  \n",
       "Son                   0.000000e+00    3.706723e-09   4.132435e-21  2.225197e-88  \n",
       "Social drinker        3.706723e-09    0.000000e+00   1.515194e-02  1.196121e-26  \n",
       "Social smoker         4.132435e-21    1.515194e-02   0.000000e+00  5.706486e-14  \n",
       "Pet                   2.225197e-88    1.196121e-26   5.706486e-14  0.000000e+00  "
      ]
     },
     "execution_count": 81,
     "metadata": {},
     "output_type": "execute_result"
    }
   ],
   "source": [
    "factors_paired = [(i,j) for i in catcols for j in catcols] \n",
    "chi2, p_values =[], []\n",
    "for f in factors_paired:\n",
    "    if f[0] != f[1]:\n",
    "        chitest = chi2_contingency(pd.crosstab(absent[f[0]], absent[f[1]]))\n",
    "        chi2.append(chitest[0])\n",
    "        p_values.append(chitest[1])\n",
    "    else:\n",
    "        chi2.append(0)\n",
    "        p_values.append(0)\n",
    "\n",
    "p1 = np.array(p_values).reshape((10,10))\n",
    "p1 = pd.DataFrame(p1, index=catcols, columns=catcols)\n",
    "p1"
   ]
  },
  {
   "cell_type": "markdown",
   "metadata": {},
   "source": [
    "Dropping Seasons since p-value of 'Seasons' versus 'Month of absence' is 0.00(<0.05) rejecting null hypothesis that the two variables are independent."
   ]
  },
  {
   "cell_type": "code",
   "execution_count": 82,
   "metadata": {},
   "outputs": [],
   "source": [
    "absent = absent.drop(['Seasons'],axis=1)"
   ]
  },
  {
   "cell_type": "markdown",
   "metadata": {},
   "source": [
    "Correlation test for continuous independent variables"
   ]
  },
  {
   "cell_type": "code",
   "execution_count": 83,
   "metadata": {},
   "outputs": [],
   "source": [
    "contcols = ['Transportation expense','Distance from Residence to Work', 'Service time', 'Age', 'Work load Average/day ',\\\n",
    "'Hit target','Weight', 'Height', 'Body mass index']"
   ]
  },
  {
   "cell_type": "code",
   "execution_count": 84,
   "metadata": {},
   "outputs": [
    {
     "data": {
      "text/html": [
       "<div>\n",
       "<style scoped>\n",
       "    .dataframe tbody tr th:only-of-type {\n",
       "        vertical-align: middle;\n",
       "    }\n",
       "\n",
       "    .dataframe tbody tr th {\n",
       "        vertical-align: top;\n",
       "    }\n",
       "\n",
       "    .dataframe thead th {\n",
       "        text-align: right;\n",
       "    }\n",
       "</style>\n",
       "<table border=\"1\" class=\"dataframe\">\n",
       "  <thead>\n",
       "    <tr style=\"text-align: right;\">\n",
       "      <th></th>\n",
       "      <th>Transportation expense</th>\n",
       "      <th>Distance from Residence to Work</th>\n",
       "      <th>Service time</th>\n",
       "      <th>Age</th>\n",
       "      <th>Work load Average/day</th>\n",
       "      <th>Hit target</th>\n",
       "      <th>Weight</th>\n",
       "      <th>Height</th>\n",
       "      <th>Body mass index</th>\n",
       "    </tr>\n",
       "  </thead>\n",
       "  <tbody>\n",
       "    <tr>\n",
       "      <th>Transportation expense</th>\n",
       "      <td>1.000000</td>\n",
       "      <td>0.269155</td>\n",
       "      <td>-0.350778</td>\n",
       "      <td>-0.228578</td>\n",
       "      <td>-0.017599</td>\n",
       "      <td>-0.076202</td>\n",
       "      <td>-0.194536</td>\n",
       "      <td>-0.160943</td>\n",
       "      <td>-0.120601</td>\n",
       "    </tr>\n",
       "    <tr>\n",
       "      <th>Distance from Residence to Work</th>\n",
       "      <td>0.269155</td>\n",
       "      <td>1.000000</td>\n",
       "      <td>0.132584</td>\n",
       "      <td>-0.135683</td>\n",
       "      <td>-0.071586</td>\n",
       "      <td>-0.002709</td>\n",
       "      <td>-0.027558</td>\n",
       "      <td>-0.342810</td>\n",
       "      <td>0.141660</td>\n",
       "    </tr>\n",
       "    <tr>\n",
       "      <th>Service time</th>\n",
       "      <td>-0.350778</td>\n",
       "      <td>0.132584</td>\n",
       "      <td>1.000000</td>\n",
       "      <td>0.691383</td>\n",
       "      <td>-0.000400</td>\n",
       "      <td>0.013905</td>\n",
       "      <td>0.459509</td>\n",
       "      <td>-0.091502</td>\n",
       "      <td>0.508165</td>\n",
       "    </tr>\n",
       "    <tr>\n",
       "      <th>Age</th>\n",
       "      <td>-0.228578</td>\n",
       "      <td>-0.135683</td>\n",
       "      <td>0.691383</td>\n",
       "      <td>1.000000</td>\n",
       "      <td>-0.054285</td>\n",
       "      <td>-0.015695</td>\n",
       "      <td>0.429993</td>\n",
       "      <td>0.005210</td>\n",
       "      <td>0.487372</td>\n",
       "    </tr>\n",
       "    <tr>\n",
       "      <th>Work load Average/day</th>\n",
       "      <td>-0.017599</td>\n",
       "      <td>-0.071586</td>\n",
       "      <td>-0.000400</td>\n",
       "      <td>-0.054285</td>\n",
       "      <td>1.000000</td>\n",
       "      <td>-0.046530</td>\n",
       "      <td>-0.054656</td>\n",
       "      <td>0.033051</td>\n",
       "      <td>-0.106928</td>\n",
       "    </tr>\n",
       "    <tr>\n",
       "      <th>Hit target</th>\n",
       "      <td>-0.076202</td>\n",
       "      <td>-0.002709</td>\n",
       "      <td>0.013905</td>\n",
       "      <td>-0.015695</td>\n",
       "      <td>-0.046530</td>\n",
       "      <td>1.000000</td>\n",
       "      <td>-0.006818</td>\n",
       "      <td>0.061310</td>\n",
       "      <td>-0.039986</td>\n",
       "    </tr>\n",
       "    <tr>\n",
       "      <th>Weight</th>\n",
       "      <td>-0.194536</td>\n",
       "      <td>-0.027558</td>\n",
       "      <td>0.459509</td>\n",
       "      <td>0.429993</td>\n",
       "      <td>-0.054656</td>\n",
       "      <td>-0.006818</td>\n",
       "      <td>1.000000</td>\n",
       "      <td>0.285272</td>\n",
       "      <td>0.901149</td>\n",
       "    </tr>\n",
       "    <tr>\n",
       "      <th>Height</th>\n",
       "      <td>-0.160943</td>\n",
       "      <td>-0.342810</td>\n",
       "      <td>-0.091502</td>\n",
       "      <td>0.005210</td>\n",
       "      <td>0.033051</td>\n",
       "      <td>0.061310</td>\n",
       "      <td>0.285272</td>\n",
       "      <td>1.000000</td>\n",
       "      <td>-0.091097</td>\n",
       "    </tr>\n",
       "    <tr>\n",
       "      <th>Body mass index</th>\n",
       "      <td>-0.120601</td>\n",
       "      <td>0.141660</td>\n",
       "      <td>0.508165</td>\n",
       "      <td>0.487372</td>\n",
       "      <td>-0.106928</td>\n",
       "      <td>-0.039986</td>\n",
       "      <td>0.901149</td>\n",
       "      <td>-0.091097</td>\n",
       "      <td>1.000000</td>\n",
       "    </tr>\n",
       "  </tbody>\n",
       "</table>\n",
       "</div>"
      ],
      "text/plain": [
       "                                 Transportation expense  Distance from Residence to Work  Service time       Age  Work load Average/day   \\\n",
       "Transportation expense                         1.000000                         0.269155     -0.350778 -0.228578               -0.017599   \n",
       "Distance from Residence to Work                0.269155                         1.000000      0.132584 -0.135683               -0.071586   \n",
       "Service time                                  -0.350778                         0.132584      1.000000  0.691383               -0.000400   \n",
       "Age                                           -0.228578                        -0.135683      0.691383  1.000000               -0.054285   \n",
       "Work load Average/day                         -0.017599                        -0.071586     -0.000400 -0.054285                1.000000   \n",
       "Hit target                                    -0.076202                        -0.002709      0.013905 -0.015695               -0.046530   \n",
       "Weight                                        -0.194536                        -0.027558      0.459509  0.429993               -0.054656   \n",
       "Height                                        -0.160943                        -0.342810     -0.091502  0.005210                0.033051   \n",
       "Body mass index                               -0.120601                         0.141660      0.508165  0.487372               -0.106928   \n",
       "\n",
       "                                 Hit target    Weight    Height  Body mass index  \n",
       "Transportation expense            -0.076202 -0.194536 -0.160943        -0.120601  \n",
       "Distance from Residence to Work   -0.002709 -0.027558 -0.342810         0.141660  \n",
       "Service time                       0.013905  0.459509 -0.091502         0.508165  \n",
       "Age                               -0.015695  0.429993  0.005210         0.487372  \n",
       "Work load Average/day             -0.046530 -0.054656  0.033051        -0.106928  \n",
       "Hit target                         1.000000 -0.006818  0.061310        -0.039986  \n",
       "Weight                            -0.006818  1.000000  0.285272         0.901149  \n",
       "Height                             0.061310  0.285272  1.000000        -0.091097  \n",
       "Body mass index                   -0.039986  0.901149 -0.091097         1.000000  "
      ]
     },
     "execution_count": 84,
     "metadata": {},
     "output_type": "execute_result"
    }
   ],
   "source": [
    "absent.loc[:,contcols].corr()"
   ]
  },
  {
   "cell_type": "markdown",
   "metadata": {},
   "source": [
    "No two variables have correlation coeff. > 0.95 so we will not drop any continuous independent variables."
   ]
  },
  {
   "cell_type": "markdown",
   "metadata": {},
   "source": [
    "# Relationships of categorical independent variables with dependent variable"
   ]
  },
  {
   "cell_type": "markdown",
   "metadata": {},
   "source": [
    "'Reason for absence' Vs. 'Absenteeism time in hours'"
   ]
  },
  {
   "cell_type": "code",
   "execution_count": 85,
   "metadata": {},
   "outputs": [],
   "source": [
    "def relationship(a,b):\n",
    "    df = absent.groupby(a)[b].sum()\n",
    "    df = df.reset_index()\n",
    "    df[b] = df[b]*100/sum(absent[b])\n",
    "    df = df.sort_values(by=['Absenteeism time in hours'])\n",
    "    print(df)\n",
    "    return df.plot.barh(x=a,y=b)"
   ]
  },
  {
   "cell_type": "code",
   "execution_count": 86,
   "metadata": {},
   "outputs": [
    {
     "name": "stdout",
     "output_type": "stream",
     "text": [
      "   Reason for absence  Absenteeism time in hours\n",
      "15               16.0                   0.158520\n",
      "2                 3.0                   0.211361\n",
      "16               17.0                   0.211361\n",
      "3                 4.0                   0.237781\n",
      "14               15.0                   0.422721\n",
      "1                 2.0                   0.449141\n",
      "4                 5.0                   0.501982\n",
      "22               24.0                   0.634082\n",
      "7                 8.0                   0.845443\n",
      "19               21.0                   0.924703\n",
      "8                 9.0                   1.532365\n",
      "5                 6.0                   1.796565\n",
      "11               12.0                   2.060766\n",
      "23               25.0                   2.853369\n",
      "6                 7.0                   2.985469\n",
      "13               14.0                   3.302510\n",
      "0                 1.0                   3.566711\n",
      "17               18.0                   4.068692\n",
      "10               11.0                   4.280053\n",
      "25               27.0                   4.464993\n",
      "9                10.0                   5.706737\n",
      "20               22.0                   7.529723\n",
      "24               26.0                   8.269485\n",
      "26               28.0                   8.533686\n",
      "18               19.0                  10.647292\n",
      "21               23.0                  11.175694\n",
      "12               13.0                  12.628798\n"
     ]
    },
    {
     "data": {
      "text/plain": [
       "<matplotlib.axes._subplots.AxesSubplot at 0x1cd06cda710>"
      ]
     },
     "execution_count": 86,
     "metadata": {},
     "output_type": "execute_result"
    },
    {
     "data": {
      "image/png": "[encoded data removed]",
      "text/plain": [
       "<Figure size 936x612 with 1 Axes>"
      ]
     },
     "metadata": {},
     "output_type": "display_data"
    }
   ],
   "source": [
    "relationship('Reason for absence','Absenteeism time in hours')"
   ]
  },
  {
   "cell_type": "markdown",
   "metadata": {},
   "source": [
    "Top 3 categories in order of Absenteeism time are:\n",
    "1. Category 13:Diseases of the musculoskeletal system and connective tissue - 12.62 % of total time\n",
    "2. Category 23:medical consultation - 11.17 % of total time\n",
    "3. Category 19:Injury, poisoning and certain other consequences of external causes - 10.64 % of total time\n",
    "4. Category 28:dental consultation - 8.53 % 0f total time\n",
    "5. Category 26:unjustified absence - 8.27 % of total time\n",
    "\n",
    "Conclusions & possible remedies:\n",
    "1. Musculoskeletal system disease is the major reason of absenteeism. Bad working posture & high workload are possible reasons for the high incidence of musculoskeletal disease. Company should conduct a study on the working postures of people and go for more ergonomic workplace design. Company should try to optimize workload keeping in mind occupational health of working people.\n",
    "2. Medical consultation may be brought down by optimizing workloads.\n",
    "3. Injury incidence may be reduced by creating proper ergonomic working setup.\n",
    "4. Dental consultation time may be reduced by informing employees of the dental health guidelines so that they can take better care of their teeth.\n",
    "5. Unjustified absence is too high.Company should try to reduce high workloads so that employees don't feel work stress and take unjustified absence leave."
   ]
  },
  {
   "cell_type": "markdown",
   "metadata": {},
   "source": [
    "'Month of absence' Vs. 'Absenteeism time in hours'"
   ]
  },
  {
   "cell_type": "code",
   "execution_count": 87,
   "metadata": {},
   "outputs": [
    {
     "name": "stdout",
     "output_type": "stream",
     "text": [
      "   Month of absence  Absenteeism time in hours\n",
      "0               1.0                   5.284016\n",
      "11             12.0                   6.367239\n",
      "8               9.0                   6.552180\n",
      "7               8.0                   7.001321\n",
      "1               2.0                   7.582563\n",
      "5               6.0                   8.031704\n",
      "3               4.0                   8.243065\n",
      "4               5.0                   8.348745\n",
      "9              10.0                   8.348745\n",
      "10             11.0                   8.824306\n",
      "6               7.0                  11.387054\n",
      "2               3.0                  14.029062\n"
     ]
    },
    {
     "data": {
      "text/plain": [
       "<matplotlib.axes._subplots.AxesSubplot at 0x1cd06d988d0>"
      ]
     },
     "execution_count": 87,
     "metadata": {},
     "output_type": "execute_result"
    },
    {
     "data": {
      "image/png": "[encoded data removed]",
      "text/plain": [
       "<Figure size 936x612 with 1 Axes>"
      ]
     },
     "metadata": {},
     "output_type": "display_data"
    }
   ],
   "source": [
    "relationship('Month of absence','Absenteeism time in hours')"
   ]
  },
  {
   "cell_type": "markdown",
   "metadata": {},
   "source": [
    "Top 3 months in order of Absenteeism time are:\n",
    "\n",
    "1. Month 3:March - 14.02 % of total time\n",
    "2. Month 7:July - 11.38 % of total time\n",
    "3. Month 11:November - 8.82 % of total time"
   ]
  },
  {
   "cell_type": "markdown",
   "metadata": {},
   "source": [
    "'Day of the week' Vs. 'Absenteeism time in hours'"
   ]
  },
  {
   "cell_type": "code",
   "execution_count": 88,
   "metadata": {},
   "outputs": [
    {
     "name": "stdout",
     "output_type": "stream",
     "text": [
      "  Day of the week  Absenteeism time in hours\n",
      "3               5                  14.848085\n",
      "4               6                  16.301189\n",
      "1               3                  20.634082\n",
      "2               4                  22.192867\n",
      "0               2                  26.023778\n"
     ]
    },
    {
     "data": {
      "text/plain": [
       "<matplotlib.axes._subplots.AxesSubplot at 0x1cd06e02828>"
      ]
     },
     "execution_count": 88,
     "metadata": {},
     "output_type": "execute_result"
    },
    {
     "data": {
      "image/png": "[encoded data removed]",
      "text/plain": [
       "<Figure size 936x612 with 1 Axes>"
      ]
     },
     "metadata": {},
     "output_type": "display_data"
    }
   ],
   "source": [
    "relationship('Day of the week','Absenteeism time in hours')"
   ]
  },
  {
   "cell_type": "markdown",
   "metadata": {},
   "source": [
    "Top 3 days in order of Absenteeism time are:\n",
    "\n",
    "1. Day 2:Monday - 26.02 % of total time\n",
    "2. Day 4:Wednesday - 22.19 % of total time\n",
    "3. Day 3:Tuesday - 20.63 % of total time"
   ]
  },
  {
   "cell_type": "markdown",
   "metadata": {},
   "source": [
    "'Education' Vs. 'Absenteeism time in hours'"
   ]
  },
  {
   "cell_type": "code",
   "execution_count": 89,
   "metadata": {},
   "outputs": [
    {
     "name": "stdout",
     "output_type": "stream",
     "text": [
      "  Education  Absenteeism time in hours\n",
      "3       4.0                   0.554822\n",
      "1       2.0                   6.974901\n",
      "2       3.0                   9.775429\n",
      "0       1.0                  82.694848\n"
     ]
    },
    {
     "data": {
      "text/plain": [
       "<matplotlib.axes._subplots.AxesSubplot at 0x1cd071f2dd8>"
      ]
     },
     "execution_count": 89,
     "metadata": {},
     "output_type": "execute_result"
    },
    {
     "data": {
      "image/png": "[encoded data removed]",
      "text/plain": [
       "<Figure size 936x612 with 1 Axes>"
      ]
     },
     "metadata": {},
     "output_type": "display_data"
    }
   ],
   "source": [
    "relationship('Education','Absenteeism time in hours')"
   ]
  },
  {
   "cell_type": "markdown",
   "metadata": {},
   "source": [
    "82.69 % of absenteeism time is contributed by people having high school education.\n",
    "This may be due to majority of people having high school education. No conclusion may be drawn from this graph."
   ]
  },
  {
   "cell_type": "markdown",
   "metadata": {},
   "source": [
    "'Son' Vs. 'Absenteeism time in hours'"
   ]
  },
  {
   "cell_type": "code",
   "execution_count": 90,
   "metadata": {},
   "outputs": [
    {
     "name": "stdout",
     "output_type": "stream",
     "text": [
      "   Son  Absenteeism time in hours\n",
      "3  3.0                   2.985469\n",
      "4  4.0                   6.631440\n",
      "2  2.0                  27.080581\n",
      "1  1.0                  27.239102\n",
      "0  0.0                  36.063408\n"
     ]
    },
    {
     "data": {
      "text/plain": [
       "<matplotlib.axes._subplots.AxesSubplot at 0x1cd07269780>"
      ]
     },
     "execution_count": 90,
     "metadata": {},
     "output_type": "execute_result"
    },
    {
     "data": {
      "image/png": "[encoded data removed]",
      "text/plain": [
       "<Figure size 936x612 with 1 Axes>"
      ]
     },
     "metadata": {},
     "output_type": "display_data"
    }
   ],
   "source": [
    "relationship('Son','Absenteeism time in hours')"
   ]
  },
  {
   "cell_type": "markdown",
   "metadata": {},
   "source": [
    "Top 3 categories in order of Absenteeism time are:\n",
    "\n",
    "1. Category 0:No son - 36.06 % of total time\n",
    "2. Category 1:One son - 27.23 % of total time\n",
    "3. Category 2:Two sons - 27.08 % of total time\n",
    "\n",
    "People with no son are taking most of absenteeism time."
   ]
  },
  {
   "cell_type": "markdown",
   "metadata": {},
   "source": [
    "'Pet' Vs. 'Absenteeism time in hours'"
   ]
  },
  {
   "cell_type": "code",
   "execution_count": 91,
   "metadata": {},
   "outputs": [
    {
     "name": "stdout",
     "output_type": "stream",
     "text": [
      "   Pet  Absenteeism time in hours\n",
      "4  5.0                   0.660502\n",
      "5  8.0                   0.898283\n",
      "3  4.0                   5.574637\n",
      "2  2.0                   9.537649\n",
      "1  1.0                  21.083223\n",
      "0  0.0                  62.245707\n"
     ]
    },
    {
     "data": {
      "text/plain": [
       "<matplotlib.axes._subplots.AxesSubplot at 0x1cd06df06a0>"
      ]
     },
     "execution_count": 91,
     "metadata": {},
     "output_type": "execute_result"
    },
    {
     "data": {
      "image/png": "[encoded data removed]",
      "text/plain": [
       "<Figure size 936x612 with 1 Axes>"
      ]
     },
     "metadata": {},
     "output_type": "display_data"
    }
   ],
   "source": [
    "relationship('Pet','Absenteeism time in hours')"
   ]
  },
  {
   "cell_type": "markdown",
   "metadata": {},
   "source": [
    "Top 3 categories in order of Absenteeism time are:\n",
    "\n",
    "1. Category 0:No pet - 62.24 % of total time\n",
    "2. Category 1:One pet - 21.08 % of total time\n",
    "3. Category 2:Two pets - 9.53 % of total time\n",
    "\n",
    "People with no pet are taking most of absenteeism time."
   ]
  },
  {
   "cell_type": "markdown",
   "metadata": {},
   "source": [
    "# Relationships of continuous independent variables with dependent variable"
   ]
  },
  {
   "cell_type": "code",
   "execution_count": 92,
   "metadata": {},
   "outputs": [
    {
     "data": {
      "text/html": [
       "<div>\n",
       "<style scoped>\n",
       "    .dataframe tbody tr th:only-of-type {\n",
       "        vertical-align: middle;\n",
       "    }\n",
       "\n",
       "    .dataframe tbody tr th {\n",
       "        vertical-align: top;\n",
       "    }\n",
       "\n",
       "    .dataframe thead th {\n",
       "        text-align: right;\n",
       "    }\n",
       "</style>\n",
       "<table border=\"1\" class=\"dataframe\">\n",
       "  <thead>\n",
       "    <tr style=\"text-align: right;\">\n",
       "      <th></th>\n",
       "      <th>Transportation expense</th>\n",
       "      <th>Distance from Residence to Work</th>\n",
       "      <th>Service time</th>\n",
       "      <th>Age</th>\n",
       "      <th>Work load Average/day</th>\n",
       "      <th>Hit target</th>\n",
       "      <th>Weight</th>\n",
       "      <th>Height</th>\n",
       "      <th>Body mass index</th>\n",
       "      <th>Absenteeism time in hours</th>\n",
       "    </tr>\n",
       "  </thead>\n",
       "  <tbody>\n",
       "    <tr>\n",
       "      <th>Transportation expense</th>\n",
       "      <td>1.000000</td>\n",
       "      <td>0.269155</td>\n",
       "      <td>-0.350778</td>\n",
       "      <td>-0.228578</td>\n",
       "      <td>-0.017599</td>\n",
       "      <td>-0.076202</td>\n",
       "      <td>-0.194536</td>\n",
       "      <td>-0.160943</td>\n",
       "      <td>-0.120601</td>\n",
       "      <td>0.186368</td>\n",
       "    </tr>\n",
       "    <tr>\n",
       "      <th>Distance from Residence to Work</th>\n",
       "      <td>0.269155</td>\n",
       "      <td>1.000000</td>\n",
       "      <td>0.132584</td>\n",
       "      <td>-0.135683</td>\n",
       "      <td>-0.071586</td>\n",
       "      <td>-0.002709</td>\n",
       "      <td>-0.027558</td>\n",
       "      <td>-0.342810</td>\n",
       "      <td>0.141660</td>\n",
       "      <td>-0.066372</td>\n",
       "    </tr>\n",
       "    <tr>\n",
       "      <th>Service time</th>\n",
       "      <td>-0.350778</td>\n",
       "      <td>0.132584</td>\n",
       "      <td>1.000000</td>\n",
       "      <td>0.691383</td>\n",
       "      <td>-0.000400</td>\n",
       "      <td>0.013905</td>\n",
       "      <td>0.459509</td>\n",
       "      <td>-0.091502</td>\n",
       "      <td>0.508165</td>\n",
       "      <td>-0.034384</td>\n",
       "    </tr>\n",
       "    <tr>\n",
       "      <th>Age</th>\n",
       "      <td>-0.228578</td>\n",
       "      <td>-0.135683</td>\n",
       "      <td>0.691383</td>\n",
       "      <td>1.000000</td>\n",
       "      <td>-0.054285</td>\n",
       "      <td>-0.015695</td>\n",
       "      <td>0.429993</td>\n",
       "      <td>0.005210</td>\n",
       "      <td>0.487372</td>\n",
       "      <td>0.005265</td>\n",
       "    </tr>\n",
       "    <tr>\n",
       "      <th>Work load Average/day</th>\n",
       "      <td>-0.017599</td>\n",
       "      <td>-0.071586</td>\n",
       "      <td>-0.000400</td>\n",
       "      <td>-0.054285</td>\n",
       "      <td>1.000000</td>\n",
       "      <td>-0.046530</td>\n",
       "      <td>-0.054656</td>\n",
       "      <td>0.033051</td>\n",
       "      <td>-0.106928</td>\n",
       "      <td>0.112240</td>\n",
       "    </tr>\n",
       "    <tr>\n",
       "      <th>Hit target</th>\n",
       "      <td>-0.076202</td>\n",
       "      <td>-0.002709</td>\n",
       "      <td>0.013905</td>\n",
       "      <td>-0.015695</td>\n",
       "      <td>-0.046530</td>\n",
       "      <td>1.000000</td>\n",
       "      <td>-0.006818</td>\n",
       "      <td>0.061310</td>\n",
       "      <td>-0.039986</td>\n",
       "      <td>-0.021094</td>\n",
       "    </tr>\n",
       "    <tr>\n",
       "      <th>Weight</th>\n",
       "      <td>-0.194536</td>\n",
       "      <td>-0.027558</td>\n",
       "      <td>0.459509</td>\n",
       "      <td>0.429993</td>\n",
       "      <td>-0.054656</td>\n",
       "      <td>-0.006818</td>\n",
       "      <td>1.000000</td>\n",
       "      <td>0.285272</td>\n",
       "      <td>0.901149</td>\n",
       "      <td>0.030329</td>\n",
       "    </tr>\n",
       "    <tr>\n",
       "      <th>Height</th>\n",
       "      <td>-0.160943</td>\n",
       "      <td>-0.342810</td>\n",
       "      <td>-0.091502</td>\n",
       "      <td>0.005210</td>\n",
       "      <td>0.033051</td>\n",
       "      <td>0.061310</td>\n",
       "      <td>0.285272</td>\n",
       "      <td>1.000000</td>\n",
       "      <td>-0.091097</td>\n",
       "      <td>0.102118</td>\n",
       "    </tr>\n",
       "    <tr>\n",
       "      <th>Body mass index</th>\n",
       "      <td>-0.120601</td>\n",
       "      <td>0.141660</td>\n",
       "      <td>0.508165</td>\n",
       "      <td>0.487372</td>\n",
       "      <td>-0.106928</td>\n",
       "      <td>-0.039986</td>\n",
       "      <td>0.901149</td>\n",
       "      <td>-0.091097</td>\n",
       "      <td>1.000000</td>\n",
       "      <td>-0.029203</td>\n",
       "    </tr>\n",
       "    <tr>\n",
       "      <th>Absenteeism time in hours</th>\n",
       "      <td>0.186368</td>\n",
       "      <td>-0.066372</td>\n",
       "      <td>-0.034384</td>\n",
       "      <td>0.005265</td>\n",
       "      <td>0.112240</td>\n",
       "      <td>-0.021094</td>\n",
       "      <td>0.030329</td>\n",
       "      <td>0.102118</td>\n",
       "      <td>-0.029203</td>\n",
       "      <td>1.000000</td>\n",
       "    </tr>\n",
       "  </tbody>\n",
       "</table>\n",
       "</div>"
      ],
      "text/plain": [
       "                                 Transportation expense  Distance from Residence to Work  Service time       Age  Work load Average/day   \\\n",
       "Transportation expense                         1.000000                         0.269155     -0.350778 -0.228578               -0.017599   \n",
       "Distance from Residence to Work                0.269155                         1.000000      0.132584 -0.135683               -0.071586   \n",
       "Service time                                  -0.350778                         0.132584      1.000000  0.691383               -0.000400   \n",
       "Age                                           -0.228578                        -0.135683      0.691383  1.000000               -0.054285   \n",
       "Work load Average/day                         -0.017599                        -0.071586     -0.000400 -0.054285                1.000000   \n",
       "Hit target                                    -0.076202                        -0.002709      0.013905 -0.015695               -0.046530   \n",
       "Weight                                        -0.194536                        -0.027558      0.459509  0.429993               -0.054656   \n",
       "Height                                        -0.160943                        -0.342810     -0.091502  0.005210                0.033051   \n",
       "Body mass index                               -0.120601                         0.141660      0.508165  0.487372               -0.106928   \n",
       "Absenteeism time in hours                      0.186368                        -0.066372     -0.034384  0.005265                0.112240   \n",
       "\n",
       "                                 Hit target    Weight    Height  Body mass index  Absenteeism time in hours  \n",
       "Transportation expense            -0.076202 -0.194536 -0.160943        -0.120601                   0.186368  \n",
       "Distance from Residence to Work   -0.002709 -0.027558 -0.342810         0.141660                  -0.066372  \n",
       "Service time                       0.013905  0.459509 -0.091502         0.508165                  -0.034384  \n",
       "Age                               -0.015695  0.429993  0.005210         0.487372                   0.005265  \n",
       "Work load Average/day             -0.046530 -0.054656  0.033051        -0.106928                   0.112240  \n",
       "Hit target                         1.000000 -0.006818  0.061310        -0.039986                  -0.021094  \n",
       "Weight                            -0.006818  1.000000  0.285272         0.901149                   0.030329  \n",
       "Height                             0.061310  0.285272  1.000000        -0.091097                   0.102118  \n",
       "Body mass index                   -0.039986  0.901149 -0.091097         1.000000                  -0.029203  \n",
       "Absenteeism time in hours         -0.021094  0.030329  0.102118        -0.029203                   1.000000  "
      ]
     },
     "execution_count": 92,
     "metadata": {},
     "output_type": "execute_result"
    }
   ],
   "source": [
    "cols1 = ['Transportation expense','Distance from Residence to Work', 'Service time', 'Age', 'Work load Average/day ',\\\n",
    "'Hit target','Weight', 'Height', 'Body mass index','Absenteeism time in hours']\n",
    "absent.loc[:,cols1].corr()"
   ]
  },
  {
   "cell_type": "markdown",
   "metadata": {},
   "source": [
    "Correlation of every continuous independent variable with dependent variable('Absenteeism time in hours') is < 0.2 which means that no independent variable has strong relationship with dependent variable."
   ]
  },
  {
   "cell_type": "markdown",
   "metadata": {},
   "source": [
    "# Forecasting absenteeism time in hours per month for 2011"
   ]
  },
  {
   "cell_type": "code",
   "execution_count": 93,
   "metadata": {},
   "outputs": [
    {
     "data": {
      "text/html": [
       "<div>\n",
       "<style scoped>\n",
       "    .dataframe tbody tr th:only-of-type {\n",
       "        vertical-align: middle;\n",
       "    }\n",
       "\n",
       "    .dataframe tbody tr th {\n",
       "        vertical-align: top;\n",
       "    }\n",
       "\n",
       "    .dataframe thead th {\n",
       "        text-align: right;\n",
       "    }\n",
       "</style>\n",
       "<table border=\"1\" class=\"dataframe\">\n",
       "  <thead>\n",
       "    <tr style=\"text-align: right;\">\n",
       "      <th></th>\n",
       "      <th>ID</th>\n",
       "      <th>Reason for absence</th>\n",
       "      <th>Month of absence</th>\n",
       "      <th>Day of the week</th>\n",
       "      <th>Transportation expense</th>\n",
       "      <th>Distance from Residence to Work</th>\n",
       "      <th>Service time</th>\n",
       "      <th>Age</th>\n",
       "      <th>Work load Average/day</th>\n",
       "      <th>Hit target</th>\n",
       "      <th>Disciplinary failure</th>\n",
       "      <th>Education</th>\n",
       "      <th>Son</th>\n",
       "      <th>Social drinker</th>\n",
       "      <th>Social smoker</th>\n",
       "      <th>Pet</th>\n",
       "      <th>Weight</th>\n",
       "      <th>Height</th>\n",
       "      <th>Body mass index</th>\n",
       "      <th>Absenteeism time in hours</th>\n",
       "    </tr>\n",
       "  </thead>\n",
       "  <tbody>\n",
       "    <tr>\n",
       "      <th>0</th>\n",
       "      <td>11</td>\n",
       "      <td>26.0</td>\n",
       "      <td>7.0</td>\n",
       "      <td>3</td>\n",
       "      <td>289.0</td>\n",
       "      <td>36.0</td>\n",
       "      <td>13.0</td>\n",
       "      <td>33.0</td>\n",
       "      <td>239554.0</td>\n",
       "      <td>97.0</td>\n",
       "      <td>0.0</td>\n",
       "      <td>1.0</td>\n",
       "      <td>2.0</td>\n",
       "      <td>1.0</td>\n",
       "      <td>0.0</td>\n",
       "      <td>1.0</td>\n",
       "      <td>90.0</td>\n",
       "      <td>172.0</td>\n",
       "      <td>30.0</td>\n",
       "      <td>4.0</td>\n",
       "    </tr>\n",
       "    <tr>\n",
       "      <th>2</th>\n",
       "      <td>3</td>\n",
       "      <td>23.0</td>\n",
       "      <td>7.0</td>\n",
       "      <td>4</td>\n",
       "      <td>179.0</td>\n",
       "      <td>51.0</td>\n",
       "      <td>18.0</td>\n",
       "      <td>38.0</td>\n",
       "      <td>239554.0</td>\n",
       "      <td>97.0</td>\n",
       "      <td>0.0</td>\n",
       "      <td>1.0</td>\n",
       "      <td>0.0</td>\n",
       "      <td>1.0</td>\n",
       "      <td>0.0</td>\n",
       "      <td>0.0</td>\n",
       "      <td>89.0</td>\n",
       "      <td>170.0</td>\n",
       "      <td>31.0</td>\n",
       "      <td>2.0</td>\n",
       "    </tr>\n",
       "    <tr>\n",
       "      <th>3</th>\n",
       "      <td>7</td>\n",
       "      <td>7.0</td>\n",
       "      <td>7.0</td>\n",
       "      <td>5</td>\n",
       "      <td>279.0</td>\n",
       "      <td>5.0</td>\n",
       "      <td>14.0</td>\n",
       "      <td>39.0</td>\n",
       "      <td>239554.0</td>\n",
       "      <td>97.0</td>\n",
       "      <td>0.0</td>\n",
       "      <td>1.0</td>\n",
       "      <td>2.0</td>\n",
       "      <td>1.0</td>\n",
       "      <td>1.0</td>\n",
       "      <td>0.0</td>\n",
       "      <td>68.0</td>\n",
       "      <td>168.0</td>\n",
       "      <td>24.0</td>\n",
       "      <td>4.0</td>\n",
       "    </tr>\n",
       "    <tr>\n",
       "      <th>4</th>\n",
       "      <td>11</td>\n",
       "      <td>23.0</td>\n",
       "      <td>7.0</td>\n",
       "      <td>5</td>\n",
       "      <td>289.0</td>\n",
       "      <td>36.0</td>\n",
       "      <td>13.0</td>\n",
       "      <td>33.0</td>\n",
       "      <td>239554.0</td>\n",
       "      <td>97.0</td>\n",
       "      <td>0.0</td>\n",
       "      <td>1.0</td>\n",
       "      <td>2.0</td>\n",
       "      <td>1.0</td>\n",
       "      <td>0.0</td>\n",
       "      <td>1.0</td>\n",
       "      <td>90.0</td>\n",
       "      <td>172.0</td>\n",
       "      <td>30.0</td>\n",
       "      <td>2.0</td>\n",
       "    </tr>\n",
       "    <tr>\n",
       "      <th>5</th>\n",
       "      <td>3</td>\n",
       "      <td>23.0</td>\n",
       "      <td>7.0</td>\n",
       "      <td>6</td>\n",
       "      <td>179.0</td>\n",
       "      <td>51.0</td>\n",
       "      <td>18.0</td>\n",
       "      <td>38.0</td>\n",
       "      <td>239554.0</td>\n",
       "      <td>97.0</td>\n",
       "      <td>0.0</td>\n",
       "      <td>1.0</td>\n",
       "      <td>0.0</td>\n",
       "      <td>1.0</td>\n",
       "      <td>0.0</td>\n",
       "      <td>0.0</td>\n",
       "      <td>89.0</td>\n",
       "      <td>170.0</td>\n",
       "      <td>31.0</td>\n",
       "      <td>2.0</td>\n",
       "    </tr>\n",
       "  </tbody>\n",
       "</table>\n",
       "</div>"
      ],
      "text/plain": [
       "   ID Reason for absence Month of absence Day of the week  Transportation expense  Distance from Residence to Work  Service time   Age  \\\n",
       "0  11               26.0              7.0               3                   289.0                             36.0          13.0  33.0   \n",
       "2   3               23.0              7.0               4                   179.0                             51.0          18.0  38.0   \n",
       "3   7                7.0              7.0               5                   279.0                              5.0          14.0  39.0   \n",
       "4  11               23.0              7.0               5                   289.0                             36.0          13.0  33.0   \n",
       "5   3               23.0              7.0               6                   179.0                             51.0          18.0  38.0   \n",
       "\n",
       "   Work load Average/day   Hit target Disciplinary failure Education  Son Social drinker Social smoker  Pet  Weight  Height  \\\n",
       "0                239554.0        97.0                  0.0       1.0  2.0            1.0           0.0  1.0    90.0   172.0   \n",
       "2                239554.0        97.0                  0.0       1.0  0.0            1.0           0.0  0.0    89.0   170.0   \n",
       "3                239554.0        97.0                  0.0       1.0  2.0            1.0           1.0  0.0    68.0   168.0   \n",
       "4                239554.0        97.0                  0.0       1.0  2.0            1.0           0.0  1.0    90.0   172.0   \n",
       "5                239554.0        97.0                  0.0       1.0  0.0            1.0           0.0  0.0    89.0   170.0   \n",
       "\n",
       "   Body mass index  Absenteeism time in hours  \n",
       "0             30.0                        4.0  \n",
       "2             31.0                        2.0  \n",
       "3             24.0                        4.0  \n",
       "4             30.0                        2.0  \n",
       "5             31.0                        2.0  "
      ]
     },
     "execution_count": 93,
     "metadata": {},
     "output_type": "execute_result"
    }
   ],
   "source": [
    "absent.head()"
   ]
  },
  {
   "cell_type": "markdown",
   "metadata": {},
   "source": [
    "Aggregating absence hrs. by month"
   ]
  },
  {
   "cell_type": "code",
   "execution_count": 94,
   "metadata": {},
   "outputs": [
    {
     "data": {
      "text/plain": [
       "Month of absence\n",
       "1.0     200.0\n",
       "2.0     287.0\n",
       "3.0     531.0\n",
       "4.0     312.0\n",
       "5.0     316.0\n",
       "6.0     304.0\n",
       "7.0     431.0\n",
       "8.0     265.0\n",
       "9.0     248.0\n",
       "10.0    316.0\n",
       "11.0    334.0\n",
       "12.0    241.0\n",
       "Name: Absenteeism time in hours, dtype: float64"
      ]
     },
     "execution_count": 94,
     "metadata": {},
     "output_type": "execute_result"
    }
   ],
   "source": [
    "monthly_absence = absent.groupby('Month of absence')['Absenteeism time in hours'].sum()\n",
    "monthly_absence"
   ]
  },
  {
   "cell_type": "code",
   "execution_count": 95,
   "metadata": {},
   "outputs": [
    {
     "data": {
      "text/html": [
       "<div>\n",
       "<style scoped>\n",
       "    .dataframe tbody tr th:only-of-type {\n",
       "        vertical-align: middle;\n",
       "    }\n",
       "\n",
       "    .dataframe tbody tr th {\n",
       "        vertical-align: top;\n",
       "    }\n",
       "\n",
       "    .dataframe thead th {\n",
       "        text-align: right;\n",
       "    }\n",
       "</style>\n",
       "<table border=\"1\" class=\"dataframe\">\n",
       "  <thead>\n",
       "    <tr style=\"text-align: right;\">\n",
       "      <th></th>\n",
       "      <th>Month of absence</th>\n",
       "      <th>Absenteeism time in hours</th>\n",
       "    </tr>\n",
       "  </thead>\n",
       "  <tbody>\n",
       "    <tr>\n",
       "      <th>0</th>\n",
       "      <td>1.0</td>\n",
       "      <td>200.0</td>\n",
       "    </tr>\n",
       "    <tr>\n",
       "      <th>1</th>\n",
       "      <td>2.0</td>\n",
       "      <td>287.0</td>\n",
       "    </tr>\n",
       "    <tr>\n",
       "      <th>2</th>\n",
       "      <td>3.0</td>\n",
       "      <td>531.0</td>\n",
       "    </tr>\n",
       "    <tr>\n",
       "      <th>3</th>\n",
       "      <td>4.0</td>\n",
       "      <td>312.0</td>\n",
       "    </tr>\n",
       "    <tr>\n",
       "      <th>4</th>\n",
       "      <td>5.0</td>\n",
       "      <td>316.0</td>\n",
       "    </tr>\n",
       "    <tr>\n",
       "      <th>5</th>\n",
       "      <td>6.0</td>\n",
       "      <td>304.0</td>\n",
       "    </tr>\n",
       "    <tr>\n",
       "      <th>6</th>\n",
       "      <td>7.0</td>\n",
       "      <td>431.0</td>\n",
       "    </tr>\n",
       "    <tr>\n",
       "      <th>7</th>\n",
       "      <td>8.0</td>\n",
       "      <td>265.0</td>\n",
       "    </tr>\n",
       "    <tr>\n",
       "      <th>8</th>\n",
       "      <td>9.0</td>\n",
       "      <td>248.0</td>\n",
       "    </tr>\n",
       "    <tr>\n",
       "      <th>9</th>\n",
       "      <td>10.0</td>\n",
       "      <td>316.0</td>\n",
       "    </tr>\n",
       "    <tr>\n",
       "      <th>10</th>\n",
       "      <td>11.0</td>\n",
       "      <td>334.0</td>\n",
       "    </tr>\n",
       "    <tr>\n",
       "      <th>11</th>\n",
       "      <td>12.0</td>\n",
       "      <td>241.0</td>\n",
       "    </tr>\n",
       "  </tbody>\n",
       "</table>\n",
       "</div>"
      ],
      "text/plain": [
       "   Month of absence  Absenteeism time in hours\n",
       "0               1.0                      200.0\n",
       "1               2.0                      287.0\n",
       "2               3.0                      531.0\n",
       "3               4.0                      312.0\n",
       "4               5.0                      316.0\n",
       "5               6.0                      304.0\n",
       "6               7.0                      431.0\n",
       "7               8.0                      265.0\n",
       "8               9.0                      248.0\n",
       "9              10.0                      316.0\n",
       "10             11.0                      334.0\n",
       "11             12.0                      241.0"
      ]
     },
     "execution_count": 95,
     "metadata": {},
     "output_type": "execute_result"
    }
   ],
   "source": [
    "monthly_absence = monthly_absence.reset_index()\n",
    "monthly_absence"
   ]
  },
  {
   "cell_type": "markdown",
   "metadata": {},
   "source": [
    "Divinding absence hrs. by 3 since this data is of 3 years from July,2007 to June,2010"
   ]
  },
  {
   "cell_type": "code",
   "execution_count": 96,
   "metadata": {},
   "outputs": [],
   "source": [
    "monthly_absence['absenteeism hours per month'] = monthly_absence['Absenteeism time in hours']/3"
   ]
  },
  {
   "cell_type": "code",
   "execution_count": 97,
   "metadata": {},
   "outputs": [
    {
     "data": {
      "text/html": [
       "<div>\n",
       "<style scoped>\n",
       "    .dataframe tbody tr th:only-of-type {\n",
       "        vertical-align: middle;\n",
       "    }\n",
       "\n",
       "    .dataframe tbody tr th {\n",
       "        vertical-align: top;\n",
       "    }\n",
       "\n",
       "    .dataframe thead th {\n",
       "        text-align: right;\n",
       "    }\n",
       "</style>\n",
       "<table border=\"1\" class=\"dataframe\">\n",
       "  <thead>\n",
       "    <tr style=\"text-align: right;\">\n",
       "      <th></th>\n",
       "      <th>Month of absence</th>\n",
       "      <th>Absenteeism time in hours</th>\n",
       "      <th>absenteeism hours per month</th>\n",
       "    </tr>\n",
       "  </thead>\n",
       "  <tbody>\n",
       "    <tr>\n",
       "      <th>0</th>\n",
       "      <td>1</td>\n",
       "      <td>200.0</td>\n",
       "      <td>66.666667</td>\n",
       "    </tr>\n",
       "    <tr>\n",
       "      <th>1</th>\n",
       "      <td>2</td>\n",
       "      <td>287.0</td>\n",
       "      <td>95.666667</td>\n",
       "    </tr>\n",
       "    <tr>\n",
       "      <th>2</th>\n",
       "      <td>3</td>\n",
       "      <td>531.0</td>\n",
       "      <td>177.000000</td>\n",
       "    </tr>\n",
       "    <tr>\n",
       "      <th>3</th>\n",
       "      <td>4</td>\n",
       "      <td>312.0</td>\n",
       "      <td>104.000000</td>\n",
       "    </tr>\n",
       "    <tr>\n",
       "      <th>4</th>\n",
       "      <td>5</td>\n",
       "      <td>316.0</td>\n",
       "      <td>105.333333</td>\n",
       "    </tr>\n",
       "    <tr>\n",
       "      <th>5</th>\n",
       "      <td>6</td>\n",
       "      <td>304.0</td>\n",
       "      <td>101.333333</td>\n",
       "    </tr>\n",
       "    <tr>\n",
       "      <th>6</th>\n",
       "      <td>7</td>\n",
       "      <td>431.0</td>\n",
       "      <td>143.666667</td>\n",
       "    </tr>\n",
       "    <tr>\n",
       "      <th>7</th>\n",
       "      <td>8</td>\n",
       "      <td>265.0</td>\n",
       "      <td>88.333333</td>\n",
       "    </tr>\n",
       "    <tr>\n",
       "      <th>8</th>\n",
       "      <td>9</td>\n",
       "      <td>248.0</td>\n",
       "      <td>82.666667</td>\n",
       "    </tr>\n",
       "    <tr>\n",
       "      <th>9</th>\n",
       "      <td>10</td>\n",
       "      <td>316.0</td>\n",
       "      <td>105.333333</td>\n",
       "    </tr>\n",
       "    <tr>\n",
       "      <th>10</th>\n",
       "      <td>11</td>\n",
       "      <td>334.0</td>\n",
       "      <td>111.333333</td>\n",
       "    </tr>\n",
       "    <tr>\n",
       "      <th>11</th>\n",
       "      <td>12</td>\n",
       "      <td>241.0</td>\n",
       "      <td>80.333333</td>\n",
       "    </tr>\n",
       "  </tbody>\n",
       "</table>\n",
       "</div>"
      ],
      "text/plain": [
       "    Month of absence  Absenteeism time in hours  absenteeism hours per month\n",
       "0                  1                      200.0                    66.666667\n",
       "1                  2                      287.0                    95.666667\n",
       "2                  3                      531.0                   177.000000\n",
       "3                  4                      312.0                   104.000000\n",
       "4                  5                      316.0                   105.333333\n",
       "5                  6                      304.0                   101.333333\n",
       "6                  7                      431.0                   143.666667\n",
       "7                  8                      265.0                    88.333333\n",
       "8                  9                      248.0                    82.666667\n",
       "9                 10                      316.0                   105.333333\n",
       "10                11                      334.0                   111.333333\n",
       "11                12                      241.0                    80.333333"
      ]
     },
     "execution_count": 97,
     "metadata": {},
     "output_type": "execute_result"
    }
   ],
   "source": [
    "monthly_absence['Month of absence'] = monthly_absence['Month of absence'].astype('int')\n",
    "monthly_absence"
   ]
  },
  {
   "cell_type": "code",
   "execution_count": 98,
   "metadata": {},
   "outputs": [],
   "source": [
    "monthly_absence = monthly_absence.set_index('Month of absence')"
   ]
  },
  {
   "cell_type": "code",
   "execution_count": 99,
   "metadata": {},
   "outputs": [],
   "source": [
    "monthly_absence = monthly_absence.drop(['Absenteeism time in hours'],axis=1)"
   ]
  },
  {
   "cell_type": "code",
   "execution_count": 100,
   "metadata": {},
   "outputs": [],
   "source": [
    "ts = monthly_absence['absenteeism hours per month']"
   ]
  },
  {
   "cell_type": "code",
   "execution_count": 101,
   "metadata": {},
   "outputs": [
    {
     "data": {
      "text/plain": [
       "Month of absence\n",
       "1      66.666667\n",
       "2      95.666667\n",
       "3     177.000000\n",
       "4     104.000000\n",
       "5     105.333333\n",
       "6     101.333333\n",
       "7     143.666667\n",
       "8      88.333333\n",
       "9      82.666667\n",
       "10    105.333333\n",
       "11    111.333333\n",
       "12     80.333333\n",
       "Name: absenteeism hours per month, dtype: float64"
      ]
     },
     "execution_count": 101,
     "metadata": {},
     "output_type": "execute_result"
    }
   ],
   "source": [
    "ts"
   ]
  },
  {
   "cell_type": "code",
   "execution_count": 102,
   "metadata": {},
   "outputs": [
    {
     "data": {
      "text/plain": [
       "[<matplotlib.lines.Line2D at 0x1cd0780f7b8>]"
      ]
     },
     "execution_count": 102,
     "metadata": {},
     "output_type": "execute_result"
    },
    {
     "data": {
      "image/png": "[encoded data removed]",
      "text/plain": [
       "<Figure size 936x612 with 1 Axes>"
      ]
     },
     "metadata": {},
     "output_type": "display_data"
    }
   ],
   "source": [
    "plt.plot(ts)"
   ]
  },
  {
   "cell_type": "markdown",
   "metadata": {},
   "source": [
    "Performing Dickey Fuller test for stationarity"
   ]
  },
  {
   "cell_type": "code",
   "execution_count": 103,
   "metadata": {},
   "outputs": [
    {
     "name": "stderr",
     "output_type": "stream",
     "text": [
      "C:\\Users\\HP\\Anaconda3\\lib\\site-packages\\statsmodels\\regression\\linear_model.py:1510: RuntimeWarning: divide by zero encountered in double_scalars\n",
      "  return np.dot(wresid, wresid) / self.df_resid\n"
     ]
    },
    {
     "data": {
      "text/plain": [
       "Test Statistic                -0.000000\n",
       "p-value                        0.958532\n",
       "#Lags Used                     7.000000\n",
       "Number of Observations Used    4.000000\n",
       "Critical Value (1%)           -7.355441\n",
       "Critical Value (5%)           -4.474365\n",
       "Critical Value (10%)          -3.126933\n",
       "dtype: float64"
      ]
     },
     "execution_count": 103,
     "metadata": {},
     "output_type": "execute_result"
    }
   ],
   "source": [
    "from statsmodels.tsa.stattools import adfuller\n",
    "dftest = adfuller(ts,autolag='AIC')\n",
    "dfoutput = pd.Series(dftest[0:4], index=['Test Statistic','p-value','#Lags Used','Number of Observations Used'])\n",
    "for key,value in dftest[4].items():\n",
    "    dfoutput['Critical Value (%s)'%key] = value\n",
    "dfoutput"
   ]
  },
  {
   "cell_type": "markdown",
   "metadata": {},
   "source": [
    "Since Test Statistic > Critical Values for 1%, 5% & 10%, time series is not stationary."
   ]
  },
  {
   "cell_type": "code",
   "execution_count": 104,
   "metadata": {},
   "outputs": [],
   "source": [
    "ts_log = np.log(ts)"
   ]
  },
  {
   "cell_type": "code",
   "execution_count": 105,
   "metadata": {},
   "outputs": [
    {
     "data": {
      "text/plain": [
       "[<matplotlib.lines.Line2D at 0x1cd09261c18>]"
      ]
     },
     "execution_count": 105,
     "metadata": {},
     "output_type": "execute_result"
    },
    {
     "data": {
      "image/png": "[encoded data removed]",
      "text/plain": [
       "<Figure size 936x612 with 1 Axes>"
      ]
     },
     "metadata": {},
     "output_type": "display_data"
    }
   ],
   "source": [
    "plt.plot(ts_log)"
   ]
  },
  {
   "cell_type": "code",
   "execution_count": 106,
   "metadata": {},
   "outputs": [],
   "source": [
    "ts_diff = ts_log - ts_log.shift()"
   ]
  },
  {
   "cell_type": "code",
   "execution_count": 107,
   "metadata": {},
   "outputs": [
    {
     "data": {
      "text/plain": [
       "Month of absence\n",
       "1          NaN\n",
       "2     0.361165\n",
       "3     0.615280\n",
       "4    -0.531759\n",
       "5     0.012739\n",
       "6    -0.038715\n",
       "7     0.349080\n",
       "8    -0.486378\n",
       "9    -0.066301\n",
       "10    0.242313\n",
       "11    0.055399\n",
       "12   -0.326344\n",
       "Name: absenteeism hours per month, dtype: float64"
      ]
     },
     "execution_count": 107,
     "metadata": {},
     "output_type": "execute_result"
    }
   ],
   "source": [
    "ts_diff"
   ]
  },
  {
   "cell_type": "code",
   "execution_count": 108,
   "metadata": {},
   "outputs": [
    {
     "data": {
      "text/plain": [
       "[<matplotlib.lines.Line2D at 0x1cd092bd780>]"
      ]
     },
     "execution_count": 108,
     "metadata": {},
     "output_type": "execute_result"
    },
    {
     "data": {
      "image/png": "[encoded data removed]",
      "text/plain": [
       "<Figure size 936x612 with 1 Axes>"
      ]
     },
     "metadata": {},
     "output_type": "display_data"
    }
   ],
   "source": [
    "plt.plot(ts_diff)"
   ]
  },
  {
   "cell_type": "code",
   "execution_count": 109,
   "metadata": {},
   "outputs": [],
   "source": [
    "ts_diff.fillna(0,inplace=True)"
   ]
  },
  {
   "cell_type": "code",
   "execution_count": 110,
   "metadata": {},
   "outputs": [
    {
     "data": {
      "text/plain": [
       "Test Statistic                 -3.069239\n",
       "p-value                         0.028915\n",
       "#Lags Used                      1.000000\n",
       "Number of Observations Used    10.000000\n",
       "Critical Value (1%)            -4.331573\n",
       "Critical Value (5%)            -3.232950\n",
       "Critical Value (10%)           -2.748700\n",
       "dtype: float64"
      ]
     },
     "execution_count": 110,
     "metadata": {},
     "output_type": "execute_result"
    }
   ],
   "source": [
    "dftest = adfuller(ts_diff)\n",
    "dfoutput = pd.Series(dftest[0:4], index=['Test Statistic','p-value','#Lags Used','Number of Observations Used'])\n",
    "for key,value in dftest[4].items():\n",
    "    dfoutput['Critical Value (%s)'%key] = value\n",
    "dfoutput"
   ]
  },
  {
   "cell_type": "markdown",
   "metadata": {},
   "source": [
    "Since Test Statistic(-3.069239) < Critical Value for 10% (-2.748700), timeseries ts_diff is stationary."
   ]
  },
  {
   "cell_type": "code",
   "execution_count": 111,
   "metadata": {},
   "outputs": [],
   "source": [
    "from statsmodels.tsa.stattools import acf, pacf\n",
    "lag_acf = acf(ts_diff, nlags=10)\n",
    "lag_pacf = pacf(ts_diff, nlags=10, method='ols')"
   ]
  },
  {
   "cell_type": "code",
   "execution_count": 112,
   "metadata": {},
   "outputs": [
    {
     "data": {
      "image/png": "[encoded data removed]",
      "text/plain": [
       "<Figure size 936x612 with 1 Axes>"
      ]
     },
     "metadata": {},
     "output_type": "display_data"
    }
   ],
   "source": [
    "#Plot ACF: \n",
    "plt.subplot(121) \n",
    "plt.plot(lag_acf)\n",
    "plt.axhline(y=0,linestyle='--',color='gray')\n",
    "plt.axhline(y=-1.96/np.sqrt(len(ts_diff)),linestyle='--',color='gray')\n",
    "plt.axhline(y=1.96/np.sqrt(len(ts_diff)),linestyle='--',color='gray')\n",
    "plt.title('Autocorrelation Function')\n",
    "plt.tight_layout()"
   ]
  },
  {
   "cell_type": "code",
   "execution_count": 113,
   "metadata": {},
   "outputs": [
    {
     "data": {
      "image/png": "[encoded data removed]",
      "text/plain": [
       "<Figure size 936x612 with 1 Axes>"
      ]
     },
     "metadata": {},
     "output_type": "display_data"
    }
   ],
   "source": [
    "#Plot PACF:\n",
    "plt.subplot(122)\n",
    "plt.plot(lag_pacf)\n",
    "plt.axhline(y=0,linestyle='--',color='gray')\n",
    "plt.axhline(y=-1.96/np.sqrt(len(ts_diff)),linestyle='--',color='gray')\n",
    "plt.axhline(y=1.96/np.sqrt(len(ts_diff)),linestyle='--',color='gray')\n",
    "plt.title('Partial Autocorrelation Function')\n",
    "plt.tight_layout()"
   ]
  },
  {
   "cell_type": "markdown",
   "metadata": {},
   "source": [
    "p = 0 and q = 0 from the above charts. We will have to check for various values of p & q."
   ]
  },
  {
   "cell_type": "code",
   "execution_count": 114,
   "metadata": {},
   "outputs": [],
   "source": [
    "from statsmodels.tsa.arima_model import ARIMA"
   ]
  },
  {
   "cell_type": "code",
   "execution_count": 115,
   "metadata": {},
   "outputs": [
    {
     "name": "stderr",
     "output_type": "stream",
     "text": [
      "C:\\Users\\HP\\Anaconda3\\lib\\site-packages\\statsmodels\\tsa\\base\\tsa_model.py:221: ValueWarning: An unsupported index was provided and will be ignored when e.g. forecasting.\n",
      "  ' ignored when e.g. forecasting.', ValueWarning)\n"
     ]
    }
   ],
   "source": [
    "model = ARIMA(ts_diff, order=(3, 0, 0))"
   ]
  },
  {
   "cell_type": "code",
   "execution_count": 116,
   "metadata": {},
   "outputs": [
    {
     "name": "stderr",
     "output_type": "stream",
     "text": [
      "C:\\Users\\HP\\Anaconda3\\lib\\site-packages\\scipy\\signal\\signaltools.py:1341: FutureWarning: Using a non-tuple sequence for multidimensional indexing is deprecated; use `arr[tuple(seq)]` instead of `arr[seq]`. In the future this will be interpreted as an array index, `arr[np.array(seq)]`, which will result either in an error or a different result.\n",
      "  out_full[ind] += zi\n",
      "C:\\Users\\HP\\Anaconda3\\lib\\site-packages\\scipy\\signal\\signaltools.py:1344: FutureWarning: Using a non-tuple sequence for multidimensional indexing is deprecated; use `arr[tuple(seq)]` instead of `arr[seq]`. In the future this will be interpreted as an array index, `arr[np.array(seq)]`, which will result either in an error or a different result.\n",
      "  out = out_full[ind]\n",
      "C:\\Users\\HP\\Anaconda3\\lib\\site-packages\\scipy\\signal\\signaltools.py:1350: FutureWarning: Using a non-tuple sequence for multidimensional indexing is deprecated; use `arr[tuple(seq)]` instead of `arr[seq]`. In the future this will be interpreted as an array index, `arr[np.array(seq)]`, which will result either in an error or a different result.\n",
      "  zf = out_full[ind]\n"
     ]
    }
   ],
   "source": [
    "results_AR = model.fit(disp=-1)"
   ]
  },
  {
   "cell_type": "code",
   "execution_count": 117,
   "metadata": {},
   "outputs": [
    {
     "data": {
      "text/plain": [
       "Month of absence\n",
       "1     0.001786\n",
       "2     0.002100\n",
       "3    -0.092374\n",
       "4    -0.613604\n",
       "5    -0.336879\n",
       "6    -0.053862\n",
       "7     0.378448\n",
       "8    -0.187987\n",
       "9     0.087085\n",
       "10    0.142378\n",
       "11    0.231878\n",
       "12   -0.149071\n",
       "dtype: float64"
      ]
     },
     "execution_count": 117,
     "metadata": {},
     "output_type": "execute_result"
    }
   ],
   "source": [
    "results_AR.fittedvalues"
   ]
  },
  {
   "cell_type": "code",
   "execution_count": 118,
   "metadata": {},
   "outputs": [
    {
     "data": {
      "text/plain": [
       "[<matplotlib.lines.Line2D at 0x1cd09b3da20>]"
      ]
     },
     "execution_count": 118,
     "metadata": {},
     "output_type": "execute_result"
    },
    {
     "data": {
      "image/png": "[encoded data removed]",
      "text/plain": [
       "<Figure size 936x612 with 1 Axes>"
      ]
     },
     "metadata": {},
     "output_type": "display_data"
    }
   ],
   "source": [
    "plt.plot(ts_diff)\n",
    "plt.plot(results_AR.fittedvalues, color='red')"
   ]
  },
  {
   "cell_type": "markdown",
   "metadata": {},
   "source": [
    "Finding sum of Residual Sum of Squares(RSS) for evaluation of ARIMA model"
   ]
  },
  {
   "cell_type": "code",
   "execution_count": 119,
   "metadata": {},
   "outputs": [
    {
     "data": {
      "text/plain": [
       "0.9448504282228017"
      ]
     },
     "execution_count": 119,
     "metadata": {},
     "output_type": "execute_result"
    }
   ],
   "source": [
    "RSS = (results_AR.fittedvalues-ts_diff)**2\n",
    "RSS.fillna(0,inplace=True)\n",
    "sum(RSS)"
   ]
  },
  {
   "cell_type": "markdown",
   "metadata": {},
   "source": [
    "RSS for various order combinations\n",
    "\n",
    "1. RSS = 6.179 for order=(1,2,1)\n",
    "2. RSS = 1.051 for order=(1,0,1)\n",
    "3. RSS = 2.277 for order=(1,1,1)\n",
    "4. RSS = 1.018 for order=(2,0,1)\n",
    "5. RSS = 2.082 for order=(2,1,1)\n",
    "6. RSS = 6.802 for order=(2,2,1)\n",
    "7. RSS = 0.944 for order=(3,0,0)\n",
    "\n",
    "order=(3,0,0) gives lowest RSS of 0.944. So, we will use order=(3,0,0)"
   ]
  },
  {
   "cell_type": "code",
   "execution_count": 120,
   "metadata": {},
   "outputs": [
    {
     "name": "stderr",
     "output_type": "stream",
     "text": [
      "C:\\Users\\HP\\Anaconda3\\lib\\site-packages\\statsmodels\\tsa\\base\\tsa_model.py:531: ValueWarning: No supported index is available. Prediction results will be given with an integer index beginning at `start`.\n",
      "  ValueWarning)\n"
     ]
    }
   ],
   "source": [
    "preds = results_AR.predict(start=12,end=24)"
   ]
  },
  {
   "cell_type": "code",
   "execution_count": 121,
   "metadata": {},
   "outputs": [
    {
     "data": {
      "text/plain": [
       "12    0.001496\n",
       "13    0.189999\n",
       "14    0.109327\n",
       "15   -0.191649\n",
       "16   -0.081554\n",
       "17    0.111858\n",
       "18    0.122536\n",
       "19   -0.090272\n",
       "20   -0.099224\n",
       "21    0.044382\n",
       "22    0.107086\n",
       "23   -0.022916\n",
       "24   -0.083924\n",
       "dtype: float64"
      ]
     },
     "execution_count": 121,
     "metadata": {},
     "output_type": "execute_result"
    }
   ],
   "source": [
    "preds"
   ]
  },
  {
   "cell_type": "code",
   "execution_count": 122,
   "metadata": {},
   "outputs": [],
   "source": [
    "preds = preds[1:]"
   ]
  },
  {
   "cell_type": "code",
   "execution_count": 123,
   "metadata": {},
   "outputs": [],
   "source": [
    "predictions_ARIMA_diff = preds"
   ]
  },
  {
   "cell_type": "code",
   "execution_count": 124,
   "metadata": {},
   "outputs": [
    {
     "data": {
      "text/plain": [
       "13    0.189999\n",
       "14    0.109327\n",
       "15   -0.191649\n",
       "16   -0.081554\n",
       "17    0.111858\n",
       "18    0.122536\n",
       "19   -0.090272\n",
       "20   -0.099224\n",
       "21    0.044382\n",
       "22    0.107086\n",
       "23   -0.022916\n",
       "24   -0.083924\n",
       "dtype: float64"
      ]
     },
     "execution_count": 124,
     "metadata": {},
     "output_type": "execute_result"
    }
   ],
   "source": [
    "predictions_ARIMA_diff"
   ]
  },
  {
   "cell_type": "code",
   "execution_count": 125,
   "metadata": {},
   "outputs": [],
   "source": [
    "predictions_ARIMA_diff_cumsum = predictions_ARIMA_diff.cumsum()"
   ]
  },
  {
   "cell_type": "code",
   "execution_count": 126,
   "metadata": {},
   "outputs": [
    {
     "data": {
      "text/plain": [
       "Month of absence\n",
       "1     0.000000\n",
       "2     0.361165\n",
       "3     0.615280\n",
       "4    -0.531759\n",
       "5     0.012739\n",
       "6    -0.038715\n",
       "7     0.349080\n",
       "8    -0.486378\n",
       "9    -0.066301\n",
       "10    0.242313\n",
       "11    0.055399\n",
       "12   -0.326344\n",
       "Name: absenteeism hours per month, dtype: float64"
      ]
     },
     "execution_count": 126,
     "metadata": {},
     "output_type": "execute_result"
    }
   ],
   "source": [
    "ts_diff"
   ]
  },
  {
   "cell_type": "code",
   "execution_count": 127,
   "metadata": {},
   "outputs": [
    {
     "data": {
      "text/plain": [
       "13    0.189999\n",
       "14    0.299327\n",
       "15    0.107678\n",
       "16    0.026124\n",
       "17    0.137982\n",
       "18    0.260518\n",
       "19    0.170246\n",
       "20    0.071023\n",
       "21    0.115404\n",
       "22    0.222490\n",
       "23    0.199574\n",
       "24    0.115650\n",
       "dtype: float64"
      ]
     },
     "execution_count": 127,
     "metadata": {},
     "output_type": "execute_result"
    }
   ],
   "source": [
    "predictions_ARIMA_diff_cumsum"
   ]
  },
  {
   "cell_type": "code",
   "execution_count": 128,
   "metadata": {},
   "outputs": [],
   "source": [
    "predictions_ARIMA_log = pd.Series(4.8, index=range(13,25))\n",
    "predictions_ARIMA_log\n",
    "predictions_ARIMA_log = predictions_ARIMA_log.add(predictions_ARIMA_diff_cumsum,fill_value=0)"
   ]
  },
  {
   "cell_type": "code",
   "execution_count": 129,
   "metadata": {},
   "outputs": [
    {
     "data": {
      "text/plain": [
       "4.622994503720343"
      ]
     },
     "execution_count": 129,
     "metadata": {},
     "output_type": "execute_result"
    }
   ],
   "source": [
    "sum(ts_log)/12"
   ]
  },
  {
   "cell_type": "code",
   "execution_count": 130,
   "metadata": {},
   "outputs": [
    {
     "data": {
      "text/plain": [
       "13    4.989999\n",
       "14    5.099327\n",
       "15    4.907678\n",
       "16    4.826124\n",
       "17    4.937982\n",
       "18    5.060518\n",
       "19    4.970246\n",
       "20    4.871023\n",
       "21    4.915404\n",
       "22    5.022490\n",
       "23    4.999574\n",
       "24    4.915650\n",
       "dtype: float64"
      ]
     },
     "execution_count": 130,
     "metadata": {},
     "output_type": "execute_result"
    }
   ],
   "source": [
    "predictions_ARIMA_log"
   ]
  },
  {
   "cell_type": "code",
   "execution_count": 131,
   "metadata": {},
   "outputs": [],
   "source": [
    "predictions_ARIMA = np.exp(predictions_ARIMA_log)"
   ]
  },
  {
   "cell_type": "code",
   "execution_count": 132,
   "metadata": {},
   "outputs": [
    {
     "data": {
      "text/plain": [
       "13    146.936325\n",
       "14    163.911526\n",
       "15    135.324769\n",
       "16    124.726531\n",
       "17    139.488433\n",
       "18    157.672187\n",
       "19    144.062393\n",
       "20    130.454283\n",
       "21    136.374447\n",
       "22    151.788793\n",
       "23    148.349911\n",
       "24    136.407959\n",
       "dtype: float64"
      ]
     },
     "execution_count": 132,
     "metadata": {},
     "output_type": "execute_result"
    }
   ],
   "source": [
    "predictions_ARIMA"
   ]
  },
  {
   "cell_type": "code",
   "execution_count": 133,
   "metadata": {},
   "outputs": [
    {
     "data": {
      "text/plain": [
       "[<matplotlib.lines.Line2D at 0x1cd09baa860>]"
      ]
     },
     "execution_count": 133,
     "metadata": {},
     "output_type": "execute_result"
    },
    {
     "data": {
      "image/png": "[encoded data removed]",
      "text/plain": [
       "<Figure size 936x612 with 1 Axes>"
      ]
     },
     "metadata": {},
     "output_type": "display_data"
    }
   ],
   "source": [
    "plt.plot(ts)\n",
    "plt.plot(predictions_ARIMA)"
   ]
  },
  {
   "cell_type": "code",
   "execution_count": null,
   "metadata": {},
   "outputs": [],
   "source": []
  }
 ],
 "metadata": {
  "kernelspec": {
   "display_name": "Python 3",
   "language": "python",
   "name": "python3"
  },
  "language_info": {
   "codemirror_mode": {
    "name": "ipython",
    "version": 3
   },
   "file_extension": ".py",
   "mimetype": "text/x-python",
   "name": "python",
   "nbconvert_exporter": "python",
   "pygments_lexer": "ipython3",
   "version": "3.7.3"
  }
 },
 "nbformat": 4,
 "nbformat_minor": 2
}
